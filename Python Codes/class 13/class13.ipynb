{
 "cells": [
  {
   "cell_type": "markdown",
   "metadata": {},
   "source": [
    "## OOP\n",
    "\n",
    "- Class\n",
    "\n",
    "  - method\n",
    "    - first argument must be additional variable (self, this or anything else)\n",
    "  - attribute\n",
    "    - connect with individual object\n",
    "  - variable\n",
    "\n",
    "    - this values fr all objects\n",
    "      - `ClassName.class_variable`\n",
    "    - ```\n",
    "      class ClassName():\n",
    "        class_variable : type = value\n",
    "      ```\n",
    "\n",
    "    ```\n",
    "\n",
    "    ```\n",
    "\n",
    "  - constructor\n",
    "    - def `__init__(self,arg1,arg2)`\n",
    "\n",
    "## Syntax of class\n",
    "\n",
    "```\n",
    "class ClassName():\n",
    "    pass\n",
    "```\n"
   ]
  },
  {
   "cell_type": "code",
   "execution_count": 1,
   "metadata": {},
   "outputs": [],
   "source": [
    "class Teacher:\n",
    "    def __init__(self, teacher_id: int, teacher_name: str) -> None:\n",
    "        self.name: str = teacher_name\n",
    "        self.id: int = teacher_id\n",
    "        self.organization_name: str = \"PIAIC\"\n",
    "\n",
    "    def speak(self, words: str) -> None:\n",
    "        print(f\"{self.name} is speaking {words}\")\n",
    "\n",
    "    def teaching(self, subject: str) -> None:\n",
    "        print(f\"{self.name} is teaching {subject}\")"
   ]
  },
  {
   "cell_type": "code",
   "execution_count": 2,
   "metadata": {},
   "outputs": [],
   "source": [
    "#\n",
    "obj1: Teacher = Teacher(1, \"Ahmad\")\n",
    "obj2: Teacher = Teacher(2, \"Qasim\")"
   ]
  },
  {
   "cell_type": "code",
   "execution_count": 3,
   "metadata": {},
   "outputs": [
    {
     "data": {
      "text/plain": [
       "['__class__',\n",
       " '__delattr__',\n",
       " '__dict__',\n",
       " '__dir__',\n",
       " '__doc__',\n",
       " '__eq__',\n",
       " '__format__',\n",
       " '__ge__',\n",
       " '__getattribute__',\n",
       " '__getstate__',\n",
       " '__gt__',\n",
       " '__hash__',\n",
       " '__init__',\n",
       " '__init_subclass__',\n",
       " '__le__',\n",
       " '__lt__',\n",
       " '__module__',\n",
       " '__ne__',\n",
       " '__new__',\n",
       " '__reduce__',\n",
       " '__reduce_ex__',\n",
       " '__repr__',\n",
       " '__setattr__',\n",
       " '__sizeof__',\n",
       " '__str__',\n",
       " '__subclasshook__',\n",
       " '__weakref__',\n",
       " 'id',\n",
       " 'name',\n",
       " 'organization_name',\n",
       " 'speak',\n",
       " 'teaching']"
      ]
     },
     "execution_count": 3,
     "metadata": {},
     "output_type": "execute_result"
    }
   ],
   "source": [
    "dir(obj1)"
   ]
  },
  {
   "cell_type": "code",
   "execution_count": 5,
   "metadata": {},
   "outputs": [
    {
     "name": "stdout",
     "output_type": "stream",
     "text": [
      "Ahmad\n",
      "1\n",
      "PIAIC\n",
      "Qasim\n",
      "2\n",
      "PIAIC\n"
     ]
    }
   ],
   "source": [
    "print(obj1.name)\n",
    "print(obj1.id)\n",
    "print(obj1.organization_name)\n",
    "\n",
    "print(obj2.name)\n",
    "print(obj2.id)\n",
    "print(obj2.organization_name)"
   ]
  },
  {
   "cell_type": "code",
   "execution_count": 6,
   "metadata": {},
   "outputs": [
    {
     "name": "stdout",
     "output_type": "stream",
     "text": [
      "Ahmad is teaching Generative AI\n"
     ]
    }
   ],
   "source": [
    "obj1.teaching(\"Generative AI\")"
   ]
  },
  {
   "cell_type": "code",
   "execution_count": 7,
   "metadata": {},
   "outputs": [
    {
     "name": "stdout",
     "output_type": "stream",
     "text": [
      "Qasim is speaking He is the best teacher in the world\n"
     ]
    }
   ],
   "source": [
    "obj2.speak(\"He is the best teacher in the world\")"
   ]
  },
  {
   "cell_type": "markdown",
   "metadata": {},
   "source": [
    "# Class Variable\n"
   ]
  },
  {
   "cell_type": "code",
   "execution_count": 31,
   "metadata": {},
   "outputs": [
    {
     "name": "stdout",
     "output_type": "stream",
     "text": [
      "1\n"
     ]
    }
   ],
   "source": [
    "class Teacher:\n",
    "    counter: int = 0  # Class variable 1\n",
    "    helpline_number: str = \"011223311\"  # Class variable 2\n",
    "\n",
    "    def __init__(self, teacher_id: int, teacher_name: str) -> None:\n",
    "        self.name: str = teacher_name\n",
    "        self.id: int = teacher_id\n",
    "        self.organization_name: str = \"PIAIC\"\n",
    "        Teacher.counter +=1\n",
    "\n",
    "    def speak(self, words: str) -> None:\n",
    "        print(f\"{self.name} is speaking {words}\")\n",
    "\n",
    "    def teaching(self, subject: str) -> None:\n",
    "        print(f\"{self.name} is teaching {subject}\")\n",
    "\n",
    "    def detail(self) -> None:\n",
    "        information : str = f\"\"\"\n",
    "Teacher name is {self.name}\n",
    "our help line number is {Teacher.helpline_number}\n",
    "\n",
    "\"\"\"\n",
    "        print(information)\n",
    "\n",
    "obj1: Teacher = Teacher(1, \"Ahmad\")\n",
    "print(obj1.counter)\n",
    "obj2: Teacher = Teacher(2, \"Qasim\")"
   ]
  },
  {
   "cell_type": "code",
   "execution_count": 32,
   "metadata": {},
   "outputs": [
    {
     "name": "stdout",
     "output_type": "stream",
     "text": [
      "2\n",
      "2\n",
      "2\n",
      "011223311\n",
      "\n",
      "Teacher name is Ahmad\n",
      "our help line number is 011223311\n",
      "\n",
      "\n"
     ]
    }
   ],
   "source": [
    "print(obj1.counter)\n",
    "print(obj2.counter)\n",
    "print(Teacher.counter)\n",
    "print(Teacher.helpline_number)\n",
    "\n",
    "obj1.detail()"
   ]
  },
  {
   "cell_type": "code",
   "execution_count": 34,
   "metadata": {},
   "outputs": [
    {
     "name": "stdout",
     "output_type": "stream",
     "text": [
      "2467330809328\n",
      "2467330602912\n"
     ]
    }
   ],
   "source": [
    "print(id(obj1))\n",
    "print(id(obj2))"
   ]
  },
  {
   "cell_type": "markdown",
   "metadata": {},
   "source": [
    "# Inheritance"
   ]
  },
  {
   "cell_type": "code",
   "execution_count": 37,
   "metadata": {},
   "outputs": [
    {
     "name": "stdout",
     "output_type": "stream",
     "text": [
      "Brown\n",
      "Black\n",
      "Parents method speak Pakistan Zindabad\n",
      "You are looking Tv\n",
      "Brown\n",
      "Black\n",
      "Parents method speak Pakistan Zindabad\n",
      "You are looking Tv\n"
     ]
    }
   ],
   "source": [
    "class Parents():\n",
    "    def __init__(self)->None:\n",
    "        self.eye_color : str = 'Brown'\n",
    "        self.hair_color : str = 'Black'\n",
    "    \n",
    "    def speak(self, words : str)->None:\n",
    "        print(f'Parents method speak {words}')\n",
    "    \n",
    "    def watch(self, object_name : str)->None:\n",
    "        print(f'You are looking {object_name}')\n",
    "\n",
    "# Inheritance\n",
    "class Child(Parents):\n",
    "    pass\n",
    "\n",
    "obj1 : Parents = Parents()\n",
    "print(obj1.eye_color)\n",
    "print(obj1.hair_color)\n",
    "obj1.speak('Pakistan Zindabad')\n",
    "obj1.watch('Tv')\n",
    "\n",
    "\n",
    "# child object\n",
    "\n",
    "obj2 : Child = Child()\n",
    "print(obj2.eye_color)\n",
    "print(obj2.hair_color)\n",
    "obj2.speak('Pakistan Zindabad')\n",
    "obj2.watch('Tv')"
   ]
  },
  {
   "cell_type": "code",
   "execution_count": 38,
   "metadata": {},
   "outputs": [
    {
     "name": "stdout",
     "output_type": "stream",
     "text": [
      "Brown\n",
      "Black\n",
      "Parents method speak Pakistan Zindabad\n",
      "You are looking Tv\n",
      "Brown\n",
      "Black\n",
      "Parents method speak Pakistan Zindabad\n",
      "You are looking Tv\n",
      "Child method for teaching AI\n"
     ]
    }
   ],
   "source": [
    "class Parents():\n",
    "    def __init__(self)->None:\n",
    "        self.eye_color : str = 'Brown'\n",
    "        self.hair_color : str = 'Black'\n",
    "    \n",
    "    def speak(self, words : str)->None:\n",
    "        print(f'Parents method speak {words}')\n",
    "    \n",
    "    def watch(self, object_name : str)->None:\n",
    "        print(f'You are looking {object_name}')\n",
    "\n",
    "# Inheritance\n",
    "class Child(Parents):\n",
    "    def teaching(self, subject : str)-> None:\n",
    "        print(f'Child method for teaching {subject}')\n",
    "\n",
    "obj1 : Parents = Parents()\n",
    "print(obj1.eye_color)\n",
    "print(obj1.hair_color)\n",
    "obj1.speak('Pakistan Zindabad')\n",
    "obj1.watch('Tv')\n",
    "\n",
    "\n",
    "\n",
    "# child object\n",
    "\n",
    "obj2 : Child = Child()\n",
    "print(obj2.eye_color)\n",
    "print(obj2.hair_color)\n",
    "obj2.speak('Pakistan Zindabad')\n",
    "obj2.watch('Tv')\n",
    "obj2.teaching('AI')"
   ]
  },
  {
   "cell_type": "code",
   "execution_count": 40,
   "metadata": {},
   "outputs": [
    {
     "name": "stdout",
     "output_type": "stream",
     "text": [
      "Animation Artist\n",
      "Ahmad\n",
      "Generative AI Officer\n",
      "Qasim\n",
      "['python']\n"
     ]
    }
   ],
   "source": [
    "class Employee():\n",
    "    def __init__(self, name: str) -> None:\n",
    "        self.name : str = name\n",
    "        self.education : str = ''\n",
    "        self.department : str = ''\n",
    "\n",
    "class Designer(Employee):\n",
    "    def __init__(self, title : str , name: str) -> None:\n",
    "        super().__init__(name)\n",
    "        self.title : str = title\n",
    "\n",
    "class Developer(Employee):\n",
    "    def __init__(self, title: str, name:str) -> None:\n",
    "        super().__init__(name)\n",
    "        self.title : str = title\n",
    "        self.programming_skills : list[str]= ['python']\n",
    "\n",
    "designer : Designer = Designer('Animation Artist','Ahmad')\n",
    "\n",
    "dev1 : Developer = Developer('Generative AI Officer','Qasim')\n",
    "\n",
    "print(designer.title)\n",
    "print(designer.name)\n",
    "\n",
    "print(dev1.title)\n",
    "print(dev1.name)\n",
    "print(dev1.programming_skills)"
   ]
  }
 ],
 "metadata": {
  "kernelspec": {
   "display_name": "python12",
   "language": "python",
   "name": "python3"
  },
  "language_info": {
   "codemirror_mode": {
    "name": "ipython",
    "version": 3
   },
   "file_extension": ".py",
   "mimetype": "text/x-python",
   "name": "python",
   "nbconvert_exporter": "python",
   "pygments_lexer": "ipython3",
   "version": "3.12.0"
  }
 },
 "nbformat": 4,
 "nbformat_minor": 2
}
