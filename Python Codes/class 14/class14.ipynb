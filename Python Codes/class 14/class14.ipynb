{
 "cells": [
  {
   "cell_type": "code",
   "execution_count": 1,
   "metadata": {},
   "outputs": [
    {
     "name": "stdout",
     "output_type": "stream",
     "text": [
      "height : 6 feet\n",
      "eye color: blue\n",
      "Mother says : Mother is speaking Pakistan Zindabaad\n"
     ]
    }
   ],
   "source": [
    "class Mother():\n",
    "    def __init__(self,name:str) -> None:\n",
    "        self.name : str = name\n",
    "        self.eye_color: str = 'blue'\n",
    "\n",
    "    def speaking(self, words : str)->str:\n",
    "        return f\"Mother is speaking {words}\"\n",
    "\n",
    "class Father():\n",
    "    def __init__(self,name:str) -> None:\n",
    "        self.name : str = name\n",
    "        self.height: str = '6 feet'\n",
    "\n",
    "class Child(Mother,Father):\n",
    "    def __init__(self, mother_name: str , father_name : str , child_name: str) -> None:\n",
    "        Mother.__init__(self, mother_name)\n",
    "        Father.__init__(self, father_name)\n",
    "        self.child_name = child_name\n",
    "\n",
    "\n",
    "\n",
    "ahmad : Child = Child('Adeela','Arshad','Ahmad')\n",
    "\n",
    "print(f'height : {ahmad.height}')\n",
    "print(f'eye color: {ahmad.eye_color}')\n",
    "print(f'Mother says : {ahmad.speaking(\"Pakistan Zindabaad\")}')"
   ]
  },
  {
   "cell_type": "code",
   "execution_count": 3,
   "metadata": {},
   "outputs": [
    {
     "data": {
      "text/plain": [
       "['__class__',\n",
       " '__delattr__',\n",
       " '__dict__',\n",
       " '__dir__',\n",
       " '__doc__',\n",
       " '__eq__',\n",
       " '__format__',\n",
       " '__ge__',\n",
       " '__getattribute__',\n",
       " '__getstate__',\n",
       " '__gt__',\n",
       " '__hash__',\n",
       " '__init__',\n",
       " '__init_subclass__',\n",
       " '__le__',\n",
       " '__lt__',\n",
       " '__module__',\n",
       " '__ne__',\n",
       " '__new__',\n",
       " '__reduce__',\n",
       " '__reduce_ex__',\n",
       " '__repr__',\n",
       " '__setattr__',\n",
       " '__sizeof__',\n",
       " '__str__',\n",
       " '__subclasshook__',\n",
       " '__weakref__',\n",
       " 'child_name',\n",
       " 'eye_color',\n",
       " 'height',\n",
       " 'name',\n",
       " 'speaking']"
      ]
     },
     "execution_count": 3,
     "metadata": {},
     "output_type": "execute_result"
    }
   ],
   "source": [
    "dir(ahmad)"
   ]
  },
  {
   "cell_type": "code",
   "execution_count": 6,
   "metadata": {},
   "outputs": [
    {
     "name": "stdout",
     "output_type": "stream",
     "text": [
      "height : 6 feet\n",
      "eye color: blue\n",
      "Mother says : Mother is speaking Pakistan Zindabaad\n"
     ]
    }
   ],
   "source": [
    "class Mother():\n",
    "    def __init__(self,name:str) -> None:\n",
    "        self.name : str = name\n",
    "        self.eye_color: str = 'blue'\n",
    "\n",
    "    def speaking(self, words : str)->str:\n",
    "        return f\"Mother is speaking {words}\"\n",
    "\n",
    "class Father():\n",
    "    def __init__(self,name:str) -> None:\n",
    "        self.name : str = name\n",
    "        self.height: str = '6 feet'\n",
    "    \n",
    "    def speaking(self, words : str)->str:\n",
    "        return f\"Father is speaking {words}\"\n",
    "\n",
    "class Child(Mother,Father):\n",
    "    def __init__(self, mother_name: str , father_name : str , child_name: str) -> None:\n",
    "        Mother.__init__(self, mother_name)\n",
    "        Father.__init__(self, father_name)\n",
    "        self.child_name = child_name\n",
    "\n",
    "\n",
    "\n",
    "ahmad : Child = Child('Adeela','Arshad','Ahmad')\n",
    "\n",
    "print(f'height : {ahmad.height}')\n",
    "print(f'eye color: {ahmad.eye_color}')\n",
    "print(f'Mother says : {ahmad.speaking(\"Pakistan Zindabaad\")}') # closest to the child is called"
   ]
  },
  {
   "cell_type": "markdown",
   "metadata": {},
   "source": [
    "\n",
    "## Function overloading\n"
   ]
  },
  {
   "cell_type": "code",
   "execution_count": 8,
   "metadata": {},
   "outputs": [],
   "source": [
    "from typing import overload, Union\n",
    "\n",
    "@overload\n",
    "def add(x: int, y: int)->int:\n",
    "    ...\n",
    "\n",
    "@overload\n",
    "def add(x:float, y:float)->float:\n",
    "    ...\n",
    "\n",
    "@overload\n",
    "def add(x: str,  y: str)->str:\n",
    "    ...\n",
    "\n",
    "def add(x: Union[int, float, str], y: Union[int, float, str])->Union[int, float, str]:\n",
    "    if isinstance(x,int) and isinstance(y,int):\n",
    "        return x+y\n",
    "    if isinstance(x,float) and isinstance(y,float):\n",
    "        return x+y\n",
    "    if isinstance(x,str) and isinstance(y,str):\n",
    "        return x+y\n",
    "    else:\n",
    "        raise TypeError('Not supported type')\n",
    "    \n",
    "\n",
    "result1 = add(1,2)\n",
    "result2 = add(1.5,2.5)\n",
    "result3 = add('Hello',\"Pakistan\")\n"
   ]
  },
  {
   "cell_type": "code",
   "execution_count": null,
   "metadata": {},
   "outputs": [],
   "source": [
    "add([1,2,3]+[4,5,6])"
   ]
  },
  {
   "cell_type": "markdown",
   "metadata": {},
   "source": [
    "## Method Overloading"
   ]
  },
  {
   "cell_type": "code",
   "execution_count": 11,
   "metadata": {},
   "outputs": [],
   "source": [
    "from typing import overload, Union\n",
    "\n",
    "class Adder():\n",
    "\n",
    "\n",
    "    @overload\n",
    "    def add(self,x: int, y: int)->int:\n",
    "        ...\n",
    "\n",
    "    @overload\n",
    "    def add(self,x:float, y:float)->float:\n",
    "        ...\n",
    "\n",
    "    @overload\n",
    "    def add(self,x: str,  y: str)->str:\n",
    "        ...\n",
    "\n",
    "    def add(self,x: Union[int, float, str], y: Union[int, float, str])->Union[int, float, str]:\n",
    "        if isinstance(x,int) and isinstance(y,int):\n",
    "            return x+y\n",
    "        if isinstance(x,float) and isinstance(y,float):\n",
    "            return x+y\n",
    "        if isinstance(x,str) and isinstance(y,str):\n",
    "            return x+y\n",
    "        else:\n",
    "            raise TypeError('Not supported type')\n",
    "        \n",
    "adder : Adder = Adder()\n",
    "\n",
    "result = adder.add(1,2)\n",
    "result = adder.add(1.3,2.5)\n",
    "result = adder.add('Hello','Pakistan')"
   ]
  },
  {
   "cell_type": "markdown",
   "metadata": {},
   "source": [
    "# Overridding & Polymorphism"
   ]
  },
  {
   "cell_type": "code",
   "execution_count": 17,
   "metadata": {},
   "outputs": [
    {
     "name": "stdout",
     "output_type": "stream",
     "text": [
      "Bird is eating bread\n",
      "Animal is eating grass\n"
     ]
    }
   ],
   "source": [
    "class Animal():\n",
    "    def eating(self, food : str)->None:\n",
    "        print(f'Animal is eating {food}')\n",
    "\n",
    "class Bird(Animal):\n",
    "    def eating(self, food : str)->None:\n",
    "        print(f'Bird is eating {food}')\n",
    "\n",
    "bird : Bird = Bird()\n",
    "bird.eating('bread')\n",
    "\n",
    "animal : Animal = Animal()\n",
    "animal.eating('grass')\n"
   ]
  },
  {
   "cell_type": "markdown",
   "metadata": {},
   "source": [
    "## Polymorphism"
   ]
  },
  {
   "cell_type": "code",
   "execution_count": 18,
   "metadata": {},
   "outputs": [
    {
     "name": "stdout",
     "output_type": "stream",
     "text": [
      "Bird is eating grass\n"
     ]
    }
   ],
   "source": [
    "animal : Animal = Bird()\n",
    "animal.eating('grass')"
   ]
  },
  {
   "cell_type": "code",
   "execution_count": 19,
   "metadata": {},
   "outputs": [
    {
     "name": "stdout",
     "output_type": "stream",
     "text": [
      "<class '__main__.Bird'>\n"
     ]
    }
   ],
   "source": [
    "print(type(animal))"
   ]
  },
  {
   "cell_type": "markdown",
   "metadata": {},
   "source": [
    "# Static Method"
   ]
  },
  {
   "cell_type": "code",
   "execution_count": 16,
   "metadata": {},
   "outputs": [
    {
     "name": "stdout",
     "output_type": "stream",
     "text": [
      "Result of addition is :  30\n",
      "Result of multiplication is :  200\n",
      "Static variables :  0 PIAIC\n"
     ]
    }
   ],
   "source": [
    "class MathOperations:\n",
    "\n",
    "    counter : int = 0\n",
    "    organization : str = 'PIAIC'\n",
    "    @staticmethod\n",
    "    def add(x: int , y: int)->int:\n",
    "        '''Add two numbers'''\n",
    "        return x + y\n",
    "    \n",
    "    @staticmethod\n",
    "    def multiply(x: int , y: int)->int:\n",
    "        '''Multiply two numbers'''\n",
    "        return x * y\n",
    "    \n",
    "\n",
    "# Using the static methods\n",
    "result_add = MathOperations.add(10,20)\n",
    "result_multiply = MathOperations.multiply(10,20)\n",
    "\n",
    "# Static Methods / Static Variables\n",
    "print(\"Result of addition is : \", result_add)  # Output: Result of addition is :  30\n",
    "print(\"Result of multiplication is : \", result_multiply)  # Output: Result of multiplication is :  200\n",
    "\n",
    "# Static Varaiables/ Class Variables\n",
    "print('Static variables : ', MathOperations.counter, MathOperations.organization)"
   ]
  },
  {
   "cell_type": "code",
   "execution_count": 20,
   "metadata": {},
   "outputs": [
    {
     "name": "stdout",
     "output_type": "stream",
     "text": [
      "Human is speaking Hello\n"
     ]
    }
   ],
   "source": [
    "class Human():\n",
    "    def speaking(self, word: str)->None:\n",
    "        print(f'Human is speaking {word}')\n",
    "\n",
    "obj1 : Human = Human()\n",
    "obj1.speaking('Hello')"
   ]
  },
  {
   "cell_type": "markdown",
   "metadata": {},
   "source": [
    "## Everything is an object\n",
    "    * no primitive data types they are a class"
   ]
  },
  {
   "cell_type": "code",
   "execution_count": 22,
   "metadata": {},
   "outputs": [
    {
     "data": {
      "text/plain": [
       "['__class__',\n",
       " '__delattr__',\n",
       " '__dict__',\n",
       " '__dir__',\n",
       " '__doc__',\n",
       " '__eq__',\n",
       " '__format__',\n",
       " '__ge__',\n",
       " '__getattribute__',\n",
       " '__getstate__',\n",
       " '__gt__',\n",
       " '__hash__',\n",
       " '__init__',\n",
       " '__init_subclass__',\n",
       " '__le__',\n",
       " '__lt__',\n",
       " '__module__',\n",
       " '__ne__',\n",
       " '__new__',\n",
       " '__reduce__',\n",
       " '__reduce_ex__',\n",
       " '__repr__',\n",
       " '__setattr__',\n",
       " '__sizeof__',\n",
       " '__str__',\n",
       " '__subclasshook__',\n",
       " '__weakref__',\n",
       " 'speaking']"
      ]
     },
     "execution_count": 22,
     "metadata": {},
     "output_type": "execute_result"
    }
   ],
   "source": [
    "dir(obj1)"
   ]
  },
  {
   "cell_type": "code",
   "execution_count": 23,
   "metadata": {},
   "outputs": [
    {
     "data": {
      "text/plain": [
       "['__class__',\n",
       " '__delattr__',\n",
       " '__dir__',\n",
       " '__doc__',\n",
       " '__eq__',\n",
       " '__format__',\n",
       " '__ge__',\n",
       " '__getattribute__',\n",
       " '__getstate__',\n",
       " '__gt__',\n",
       " '__hash__',\n",
       " '__init__',\n",
       " '__init_subclass__',\n",
       " '__le__',\n",
       " '__lt__',\n",
       " '__ne__',\n",
       " '__new__',\n",
       " '__reduce__',\n",
       " '__reduce_ex__',\n",
       " '__repr__',\n",
       " '__setattr__',\n",
       " '__sizeof__',\n",
       " '__str__',\n",
       " '__subclasshook__']"
      ]
     },
     "execution_count": 23,
     "metadata": {},
     "output_type": "execute_result"
    }
   ],
   "source": [
    "dir(object)"
   ]
  },
  {
   "cell_type": "code",
   "execution_count": 24,
   "metadata": {},
   "outputs": [
    {
     "name": "stdout",
     "output_type": "stream",
     "text": [
      "Human is speaking Hello\n"
     ]
    }
   ],
   "source": [
    "class Human(object):\n",
    "    def speaking(self, word: str)->None:\n",
    "        print(f'Human is speaking {word}')\n",
    "\n",
    "obj1 : Human = Human()\n",
    "obj1.speaking('Hello')"
   ]
  },
  {
   "cell_type": "markdown",
   "metadata": {},
   "source": [
    "## Callable"
   ]
  },
  {
   "cell_type": "code",
   "execution_count": 27,
   "metadata": {},
   "outputs": [
    {
     "name": "stdout",
     "output_type": "stream",
     "text": [
      "Human is eating Nihari\n",
      "Human is eating Biryani\n",
      "Human is eating Biryani\n"
     ]
    }
   ],
   "source": [
    "from typing import Any\n",
    "\n",
    "\n",
    "class Human1(object):\n",
    "    def eating(self, food: str)->None:\n",
    "        print(f'Human is eating {food}')\n",
    "    \n",
    "    def __call__(self) -> None:\n",
    "        self.eating('Biryani')\n",
    "\n",
    "obj3 : Human1 = Human1()\n",
    "obj3.eating('Nihari')\n",
    "obj3.__call__()\n",
    "obj3()"
   ]
  },
  {
   "cell_type": "code",
   "execution_count": 28,
   "metadata": {},
   "outputs": [
    {
     "data": {
      "text/plain": [
       "<__main__.Human1 at 0x182762820c0>"
      ]
     },
     "execution_count": 28,
     "metadata": {},
     "output_type": "execute_result"
    }
   ],
   "source": [
    "Human1()"
   ]
  }
 ],
 "metadata": {
  "kernelspec": {
   "display_name": "python12",
   "language": "python",
   "name": "python3"
  },
  "language_info": {
   "codemirror_mode": {
    "name": "ipython",
    "version": 3
   },
   "file_extension": ".py",
   "mimetype": "text/x-python",
   "name": "python",
   "nbconvert_exporter": "python",
   "pygments_lexer": "ipython3",
   "version": "3.12.0"
  }
 },
 "nbformat": 4,
 "nbformat_minor": 2
}
