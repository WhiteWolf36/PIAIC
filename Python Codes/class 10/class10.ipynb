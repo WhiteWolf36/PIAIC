{
 "cells": [
  {
   "cell_type": "markdown",
   "metadata": {},
   "source": [
    "# Functions\n",
    "* pre-defined functions \n",
    "    * provided by language\n",
    "* user-defined functions\n",
    "    * custom functions\n",
    "* Return and none return fucntion\n",
    "    * Return\n",
    "        * we can assign this function output in any variable\n",
    "    * None Return\n",
    "        * only run we cant assign value to variable\n",
    "\n",
    "## Components\n",
    "* function declaration\n",
    "* function body\n",
    "* function calling\n",
    "\n",
    "\n",
    "### Syntax function\n",
    "```\n",
    "def function_name(param1:type, param2:type,...) -> Return_type:\n",
    "    function_body\n",
    "\n",
    "function_name(arg1,arg2)\n",
    "```\n",
    "\n",
    "### Syntax of lambda function\n",
    "\n",
    "* one line function\n",
    "* without name\n",
    "* only use in this line\n",
    "\n",
    "```\n",
    "lambda param1, param2 : function_body\n",
    "```"
   ]
  },
  {
   "cell_type": "markdown",
   "metadata": {},
   "source": [
    "# Pre defined function\n",
    "* print\n",
    "* len\n",
    "* id\n",
    "* dir\n",
    "* chr\n",
    "* ord\n",
    "* exec"
   ]
  },
  {
   "cell_type": "code",
   "execution_count": null,
   "metadata": {},
   "outputs": [],
   "source": [
    "print('a')"
   ]
  },
  {
   "cell_type": "markdown",
   "metadata": {},
   "source": [
    "# Return and non Return functions"
   ]
  },
  {
   "cell_type": "code",
   "execution_count": 1,
   "metadata": {},
   "outputs": [
    {
     "name": "stdout",
     "output_type": "stream",
     "text": [
      "Pakistan\n"
     ]
    },
    {
     "data": {
      "text/plain": [
       "None"
      ]
     },
     "metadata": {},
     "output_type": "display_data"
    }
   ],
   "source": [
    "a : str = print('Pakistan')\n",
    "\n",
    "display(a) # None"
   ]
  },
  {
   "cell_type": "code",
   "execution_count": 3,
   "metadata": {},
   "outputs": [
    {
     "data": {
      "text/plain": [
       "8"
      ]
     },
     "metadata": {},
     "output_type": "display_data"
    }
   ],
   "source": [
    "a : int = len('Pakistan')\n",
    "\n",
    "display(a) # 8  "
   ]
  },
  {
   "cell_type": "markdown",
   "metadata": {},
   "source": [
    "### variable_name.method()\n",
    "### function_name()"
   ]
  },
  {
   "cell_type": "code",
   "execution_count": 5,
   "metadata": {},
   "outputs": [
    {
     "name": "stdout",
     "output_type": "stream",
     "text": [
      "PIAIC\n",
      "Python Crash Course\n"
     ]
    }
   ],
   "source": [
    "def piaic()->None:  #declaration\n",
    "    #function body \n",
    "    print(\"PIAIC\")\n",
    "    print(\"Python Crash Course\")\n",
    "\n",
    "piaic() #function called"
   ]
  },
  {
   "cell_type": "markdown",
   "metadata": {},
   "source": [
    "# Required Parameters functions"
   ]
  },
  {
   "cell_type": "code",
   "execution_count": 6,
   "metadata": {},
   "outputs": [
    {
     "data": {
      "text/plain": [
       "27"
      ]
     },
     "execution_count": 6,
     "metadata": {},
     "output_type": "execute_result"
    }
   ],
   "source": [
    "def add_two_numbers(num1:int, num2: int)->int:\n",
    "    return num1+num2\n",
    "\n",
    "add_two_numbers(7,20)"
   ]
  },
  {
   "cell_type": "code",
   "execution_count": 29,
   "metadata": {},
   "outputs": [
    {
     "name": "stdout",
     "output_type": "stream",
     "text": [
      "num1 value 20 num2 value 7\n"
     ]
    },
    {
     "data": {
      "text/plain": [
       "27"
      ]
     },
     "execution_count": 29,
     "metadata": {},
     "output_type": "execute_result"
    }
   ],
   "source": [
    "def add_two_numbers(num1:int, num2: int)->int:\n",
    "    print(f'num1 value {num1} num2 value {num2}')\n",
    "    return num1+num2\n",
    "\n",
    "add_two_numbers(num2=7,num1=20)"
   ]
  },
  {
   "cell_type": "markdown",
   "metadata": {},
   "source": [
    "# Optional parameters in functions"
   ]
  },
  {
   "cell_type": "code",
   "execution_count": 7,
   "metadata": {},
   "outputs": [
    {
     "name": "stdout",
     "output_type": "stream",
     "text": [
      "10 0\n"
     ]
    },
    {
     "data": {
      "text/plain": [
       "10"
      ]
     },
     "execution_count": 7,
     "metadata": {},
     "output_type": "execute_result"
    }
   ],
   "source": [
    "def add_two_numbers(num1: int , num2:int =0)->int:\n",
    "    print(num1,num2)\n",
    "    return num1+num2\n",
    "\n",
    "add_two_numbers(10)"
   ]
  },
  {
   "cell_type": "markdown",
   "metadata": {},
   "source": [
    "# Lambda Functions"
   ]
  },
  {
   "cell_type": "code",
   "execution_count": 8,
   "metadata": {},
   "outputs": [
    {
     "data": {
      "text/plain": [
       "15"
      ]
     },
     "execution_count": 8,
     "metadata": {},
     "output_type": "execute_result"
    }
   ],
   "source": [
    "a = lambda num1 , num2 : num1 + num2\n",
    "\n",
    "a(7,8)"
   ]
  },
  {
   "cell_type": "code",
   "execution_count": 11,
   "metadata": {},
   "outputs": [
    {
     "data": {
      "text/plain": [
       "[1, 4, 9, 16, 25, 36, 49, 64, 81, 100]"
      ]
     },
     "execution_count": 11,
     "metadata": {},
     "output_type": "execute_result"
    }
   ],
   "source": [
    "data : list[int] = [1,2,3,4,5,6,7,8,9,10]\n",
    "\n",
    "data = list(map(lambda x: x**2 , data))\n",
    "\n",
    "data"
   ]
  },
  {
   "cell_type": "code",
   "execution_count": 12,
   "metadata": {},
   "outputs": [
    {
     "data": {
      "text/plain": [
       "[2, 4, 6, 8, 10]"
      ]
     },
     "execution_count": 12,
     "metadata": {},
     "output_type": "execute_result"
    }
   ],
   "source": [
    "data : list[int] = [1,2,3,4,5,6,7,8,9,10]\n",
    "\n",
    "data = list(filter(lambda x:x%2==0 , data))\n",
    "\n",
    "data"
   ]
  },
  {
   "cell_type": "code",
   "execution_count": 13,
   "metadata": {},
   "outputs": [
    {
     "name": "stdout",
     "output_type": "stream",
     "text": [
      "30\n"
     ]
    }
   ],
   "source": [
    "from typing import Callable\n",
    "\n",
    "add: Callable[[int,int],int] = lambda x,y : x+y\n",
    "result = add(10,20)\n",
    "print(result)"
   ]
  },
  {
   "cell_type": "markdown",
   "metadata": {},
   "source": [
    "## Generator Function\n",
    "* iterate on element one by one\n",
    "* stop after each iteration\n",
    "* remember the last iteration\n",
    "* next iteration\n",
    "    * go farward from last iterate value"
   ]
  },
  {
   "cell_type": "code",
   "execution_count": 17,
   "metadata": {},
   "outputs": [
    {
     "name": "stdout",
     "output_type": "stream",
     "text": [
      "<generator object my_range at 0x000001C9346A8220>\n",
      "1\n",
      "2\n",
      "3\n",
      "Pakistan\n",
      "4\n",
      "5\n",
      "6\n"
     ]
    }
   ],
   "source": [
    "## Generator Function\n",
    "def my_range(start:int , end:int, step:int=1):\n",
    "    for i in range(start,end+1,step):\n",
    "        yield i\n",
    "\n",
    "\n",
    "a = my_range(1,10)\n",
    "\n",
    "print(a)\n",
    "print(next(a))\n",
    "print(next(a))\n",
    "print(next(a))\n",
    "print(\"Pakistan\")\n",
    "print(next(a))\n",
    "print(next(a))\n",
    "print(next(a))"
   ]
  },
  {
   "cell_type": "code",
   "execution_count": 24,
   "metadata": {},
   "outputs": [
    {
     "name": "stdout",
     "output_type": "stream",
     "text": [
      "<generator object my_range at 0x000001C9346A8400>\n",
      "1\n",
      "2\n",
      "3\n",
      "Pakistan\n",
      "4\n",
      "5\n",
      "6\n",
      "<class 'generator'>\n"
     ]
    }
   ],
   "source": [
    "from collections.abc import Iterator\n",
    "\n",
    "def my_range(start:int , end:int, step:int=1)->Iterator[int]:\n",
    "    for i in range(start,end+1,step):\n",
    "        yield i\n",
    "\n",
    "itr_variable :Iterator[int] = my_range(1,10)\n",
    "\n",
    "print(itr_variable)\n",
    "print(next(itr_variable))\n",
    "print(next(itr_variable))\n",
    "print(next(itr_variable))\n",
    "print(\"Pakistan\")\n",
    "print(next(itr_variable))\n",
    "print(next(itr_variable))\n",
    "print(next(itr_variable))\n",
    "print(type(itr_variable))"
   ]
  },
  {
   "cell_type": "code",
   "execution_count": 25,
   "metadata": {},
   "outputs": [
    {
     "name": "stdout",
     "output_type": "stream",
     "text": [
      "7\n",
      "8\n",
      "9\n",
      "10\n"
     ]
    }
   ],
   "source": [
    "for i in itr_variable:\n",
    "    print(i)"
   ]
  },
  {
   "cell_type": "markdown",
   "metadata": {},
   "source": [
    "# pass unlimited argument"
   ]
  },
  {
   "cell_type": "code",
   "execution_count": 27,
   "metadata": {},
   "outputs": [
    {
     "name": "stdout",
     "output_type": "stream",
     "text": [
      "(1, 2, 3, 4, 5, 3) <class 'tuple'>\n",
      "6\n"
     ]
    }
   ],
   "source": [
    "def abc(*nums):\n",
    "    print(nums, type(nums))\n",
    "    total = 0\n",
    "    for n in nums:\n",
    "        total+=1\n",
    "    print(total)\n",
    "\n",
    "\n",
    "abc(1,2,3,4,5,3)"
   ]
  },
  {
   "cell_type": "code",
   "execution_count": 30,
   "metadata": {},
   "outputs": [
    {
     "name": "stdout",
     "output_type": "stream",
     "text": [
      "{'a': 7, 'b': 20, 'c': 30, 'name': 'Ahmad'} <class 'dict'>\n"
     ]
    }
   ],
   "source": [
    "def xyz(**kargs):\n",
    "    print(kargs, type(kargs))\n",
    "\n",
    "xyz(a=7 , b=20 , c=30 , name='Ahmad')"
   ]
  },
  {
   "cell_type": "code",
   "execution_count": 32,
   "metadata": {},
   "outputs": [
    {
     "name": "stdout",
     "output_type": "stream",
     "text": [
      "10 20 (30, 40, 50) {'x': 10, 'y': 69}\n"
     ]
    }
   ],
   "source": [
    "def myfunction(a,b,*abc,**xyz):\n",
    "    print(a,b,abc,xyz)\n",
    "\n",
    "myfunction(10,20,30,40,50,x=10,y=69)"
   ]
  },
  {
   "cell_type": "code",
   "execution_count": 36,
   "metadata": {},
   "outputs": [
    {
     "name": "stdout",
     "output_type": "stream",
     "text": [
      "Hello Ahmad\n",
      "Hello Ali\n",
      "Hello Hamza\n",
      "Hello Junaid\n"
     ]
    }
   ],
   "source": [
    "from typing import Tuple\n",
    "def greet(*names : Tuple[str,...])-> None:\n",
    "    '''\n",
    "    This Function greets all the person in the names tuple.\n",
    "    '''\n",
    "    for name in names:\n",
    "        print(f\"Hello {name}\")\n",
    "    \n",
    "\n",
    "greet(\"Ahmad\",\"Ali\",\"Hamza\",\"Junaid\")"
   ]
  },
  {
   "cell_type": "code",
   "execution_count": 41,
   "metadata": {},
   "outputs": [
    {
     "name": "stdout",
     "output_type": "stream",
     "text": [
      "{'a': 'Ahmad', 'b': 'Ali'}\n"
     ]
    }
   ],
   "source": [
    "from typing import Tuple\n",
    "def greet(**names : dict[str,str])-> None:\n",
    "    '''\n",
    "    This Function greets all the person in the names tuple.\n",
    "    '''\n",
    "    print(names)\n",
    "    \n",
    "\n",
    "greet(a=\"Ahmad\",b='Ali')"
   ]
  },
  {
   "cell_type": "code",
   "execution_count": 44,
   "metadata": {},
   "outputs": [
    {
     "name": "stdout",
     "output_type": "stream",
     "text": [
      "1 2 (3, 4, 5, 4, 2) {'c': 10, 'd': 20}\n"
     ]
    }
   ],
   "source": [
    "from typing import Dict\n",
    "def myfunction(a:int , b: int, *abc:Tuple[str,...], **xyz: Dict[str,int])->None:\n",
    "    print(a,b,abc,xyz)\n",
    "\n",
    "\n",
    "myfunction(1,2,3,4,5,4,2,c=10,d=20)"
   ]
  },
  {
   "cell_type": "code",
   "execution_count": 45,
   "metadata": {},
   "outputs": [
    {
     "name": "stdout",
     "output_type": "stream",
     "text": [
      "1 2 (3, 4, 5, 4, 2) {'c': 10, 'd': 20}\n"
     ]
    }
   ],
   "source": [
    "# Second Method\n",
    "\n",
    "from typing import Dict\n",
    "\n",
    "\n",
    "def myfunction(a: int, b: int, *abc: int, **xyz:int) -> None:\n",
    "    print(a, b, abc, xyz)\n",
    "\n",
    "\n",
    "myfunction(1, 2, 3, 4, 5, 4, 2, c=10, d=20)\n"
   ]
  },
  {
   "cell_type": "code",
   "execution_count": 47,
   "metadata": {},
   "outputs": [
    {
     "name": "stdout",
     "output_type": "stream",
     "text": [
      "Before Function Call\n",
      "My Function\n",
      "After Function Call\n"
     ]
    }
   ],
   "source": [
    "from typing import Callable\n",
    "\n",
    "def decorator(func: Callable[[],None])-> Callable[[],None]:\n",
    "    def wrapper()->None:\n",
    "        print(\"Before Function Call\")\n",
    "        func()\n",
    "        print(\"After Function Call\")\n",
    "    return wrapper\n",
    "\n",
    "@decorator\n",
    "\n",
    "def myfunction()->None:\n",
    "    print(\"My Function\")\n",
    "\n",
    "myfunction()"
   ]
  },
  {
   "cell_type": "code",
   "execution_count": 48,
   "metadata": {},
   "outputs": [
    {
     "name": "stdout",
     "output_type": "stream",
     "text": [
      "The factorial of 5 is 120\n"
     ]
    }
   ],
   "source": [
    "def factorial(x:int)->int:\n",
    "    if x == 1:\n",
    "        return 1\n",
    "    else:\n",
    "        return x * factorial(x-1)\n",
    "\n",
    "num = 5\n",
    "print(\"The factorial of\", num, \"is\", factorial(num))"
   ]
  }
 ],
 "metadata": {
  "kernelspec": {
   "display_name": "python12",
   "language": "python",
   "name": "python3"
  },
  "language_info": {
   "codemirror_mode": {
    "name": "ipython",
    "version": 3
   },
   "file_extension": ".py",
   "mimetype": "text/x-python",
   "name": "python",
   "nbconvert_exporter": "python",
   "pygments_lexer": "ipython3",
   "version": "3.12.0"
  }
 },
 "nbformat": 4,
 "nbformat_minor": 2
}
