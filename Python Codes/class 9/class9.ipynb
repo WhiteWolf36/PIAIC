{
 "cells": [
  {
   "cell_type": "markdown",
   "metadata": {},
   "source": [
    "# Loop and Input from user\n",
    "\n",
    "- while loop\n",
    "- for loop\n",
    "  - break\n",
    "  - continue\n",
    "  - pass\n",
    "- input function\n",
    "- input from console\n",
    "\n",
    "# Loop works on iterative data types\n",
    "\n",
    "- list\n",
    "- dict\n",
    "- tuple\n",
    "- string\n"
   ]
  },
  {
   "cell_type": "code",
   "execution_count": 2,
   "metadata": {},
   "outputs": [
    {
     "name": "stdout",
     "output_type": "stream",
     "text": [
      "[1, 2, 3, 4, 5, 6]\n"
     ]
    }
   ],
   "source": [
    "l1: list[int] = [1, 2, 3, 4, 5, 6]\n",
    "print(l1)"
   ]
  },
  {
   "cell_type": "code",
   "execution_count": 3,
   "metadata": {},
   "outputs": [
    {
     "name": "stdout",
     "output_type": "stream",
     "text": [
      "1\n",
      "2\n",
      "3\n",
      "4\n",
      "5\n",
      "6\n"
     ]
    }
   ],
   "source": [
    "l1: list[int] = [1, 2, 3, 4, 5, 6]\n",
    "\n",
    "for n in l1:\n",
    "    print(n)"
   ]
  },
  {
   "cell_type": "code",
   "execution_count": 4,
   "metadata": {},
   "outputs": [
    {
     "name": "stdout",
     "output_type": "stream",
     "text": [
      "current number : 1\n",
      "current number : 2\n",
      "current number : 3\n",
      "current number : 4\n",
      "current number : 5\n",
      "current number : 6\n"
     ]
    }
   ],
   "source": [
    "l1: list[int] = [1, 2, 3, 4, 5, 6]\n",
    "\n",
    "for n in l1:\n",
    "    print(f\"current number: {n}\")"
   ]
  },
  {
   "cell_type": "code",
   "execution_count": 6,
   "metadata": {},
   "outputs": [
    {
     "name": "stdout",
     "output_type": "stream",
     "text": [
      "current number : 1\n",
      "current number : 2\n",
      "current number : 3\n",
      "current number : 4\n",
      "current number : 5\n",
      "current number : 6\n"
     ]
    }
   ],
   "source": [
    "l1: tuple[int] = {1, 2, 3, 4, 5, 6}\n",
    "\n",
    "for n in l1:\n",
    "    print(f\"current number: {n}\")"
   ]
  },
  {
   "cell_type": "code",
   "execution_count": 7,
   "metadata": {},
   "outputs": [
    {
     "name": "stdout",
     "output_type": "stream",
     "text": [
      "current word : P\n",
      "current word : a\n",
      "current word : k\n",
      "current word : i\n",
      "current word : s\n",
      "current word : t\n",
      "current word : a\n",
      "current word : n\n"
     ]
    }
   ],
   "source": [
    "l1: str = \"Pakistan\"\n",
    "\n",
    "for n in l1:\n",
    "    print(f\"current word: {n}\")"
   ]
  },
  {
   "cell_type": "code",
   "execution_count": 8,
   "metadata": {},
   "outputs": [
    {
     "name": "stdout",
     "output_type": "stream",
     "text": [
      "current word : name\n",
      "current word : class\n"
     ]
    }
   ],
   "source": [
    "l1: dict[str, str] = {\"name\": \"ahmad\", \"class\": \"bscs\"}\n",
    "\n",
    "for n in l1:\n",
    "    print(f\"current word: {n}\")"
   ]
  },
  {
   "cell_type": "code",
   "execution_count": 12,
   "metadata": {},
   "outputs": [
    {
     "name": "stdout",
     "output_type": "stream",
     "text": [
      "key : name    value :ahmad\n",
      "key : class    value :bscs\n"
     ]
    }
   ],
   "source": [
    "l1: dict[str, str] = {\"name\": \"ahmad\", \"class\": \"bscs\"}\n",
    "\n",
    "for k in l1:\n",
    "    print(f\"key: {k}    value: {l1[k]}\")"
   ]
  },
  {
   "cell_type": "code",
   "execution_count": 14,
   "metadata": {},
   "outputs": [
    {
     "ename": "TypeError",
     "evalue": "'set' object is not subscriptable",
     "output_type": "error",
     "traceback": [
      "\u001b[1;31m---------------------------------------------------------------------------\u001b[0m",
      "\u001b[1;31mTypeError\u001b[0m                                 Traceback (most recent call last)",
      "\u001b[1;32mc:\\Users\\Administrator\\Documents\\PIAIC\\Python Codes\\class 9\\class9.ipynb Cell 9\u001b[0m line \u001b[0;36m4\n\u001b[0;32m      <a href='vscode-notebook-cell:/c%3A/Users/Administrator/Documents/PIAIC/Python%20Codes/class%209/class9.ipynb#X13sZmlsZQ%3D%3D?line=0'>1</a>\u001b[0m l1 : \u001b[39mset\u001b[39m[\u001b[39mint\u001b[39m] \u001b[39m=\u001b[39m {\u001b[39m1\u001b[39m,\u001b[39m2\u001b[39m,\u001b[39m1\u001b[39m,\u001b[39m2\u001b[39m,\u001b[39m3\u001b[39m,\u001b[39m45\u001b[39m,\u001b[39m2\u001b[39m}\n\u001b[0;32m      <a href='vscode-notebook-cell:/c%3A/Users/Administrator/Documents/PIAIC/Python%20Codes/class%209/class9.ipynb#X13sZmlsZQ%3D%3D?line=2'>3</a>\u001b[0m \u001b[39mfor\u001b[39;00m n \u001b[39min\u001b[39;00m l1:\n\u001b[1;32m----> <a href='vscode-notebook-cell:/c%3A/Users/Administrator/Documents/PIAIC/Python%20Codes/class%209/class9.ipynb#X13sZmlsZQ%3D%3D?line=3'>4</a>\u001b[0m     \u001b[39mprint\u001b[39m(\u001b[39mf\u001b[39m\u001b[39m\"\u001b[39m\u001b[39mcurrent number : \u001b[39m\u001b[39m{\u001b[39;00mn\u001b[39m}\u001b[39;00m\u001b[39m and value : \u001b[39m\u001b[39m{\u001b[39;00ml1[k]\u001b[39m}\u001b[39;00m\u001b[39m\"\u001b[39m)\n",
      "\u001b[1;31mTypeError\u001b[0m: 'set' object is not subscriptable"
     ]
    }
   ],
   "source": [
    "l1: set[int] = {1, 2, 1, 2, 3, 45, 2}\n",
    "\n",
    "for n in l1:\n",
    "    print(f\"current number: {n} and value: {l1[k]}\")"
   ]
  },
  {
   "cell_type": "code",
   "execution_count": 17,
   "metadata": {},
   "outputs": [
    {
     "name": "stdout",
     "output_type": "stream",
     "text": [
      "current number : 1\n",
      "current number : 2\n",
      "current number : 3\n",
      "current number : 45\n"
     ]
    }
   ],
   "source": [
    "l1: list[set[int]] = list({1, 2, 1, 2, 3, 45, 2})\n",
    "\n",
    "for n in l1:\n",
    "    print(f\"current number: {n}\")"
   ]
  },
  {
   "cell_type": "markdown",
   "metadata": {},
   "source": [
    "# input from user\n",
    "\n",
    "- input function\n",
    "  - default type = string\n",
    "- sys.argv (for console input in abc.py)\n",
    "  - default type = string\n"
   ]
  },
  {
   "cell_type": "code",
   "execution_count": 18,
   "metadata": {},
   "outputs": [
    {
     "name": "stdout",
     "output_type": "stream",
     "text": [
      "<class 'str'>\n",
      "Your name is : Ahmad\n"
     ]
    }
   ],
   "source": [
    "name: str = input(\"What is your name : \\t\")\n",
    "\n",
    "print(type(name))\n",
    "\n",
    "print(f\"Your name is: {name}\")"
   ]
  },
  {
   "cell_type": "code",
   "execution_count": 21,
   "metadata": {},
   "outputs": [
    {
     "name": "stdout",
     "output_type": "stream",
     "text": [
      "Name: a Father Name: a Age: 1\n",
      "Name: b Father Name: b Age: 2\n",
      "Name: c Father Name: c Age: 3\n"
     ]
    }
   ],
   "source": [
    "names: list[str] = [\"a\", \"b\", \"c\"]\n",
    "fname: list[str] = [\"a\", \"b\", \"c\"]\n",
    "age: list[str] = [1, 2, 3]\n",
    "\n",
    "list(zip(names, fname, age))\n",
    "\n",
    "for name, fn, ag in zip(names, fname, age):\n",
    "    print(f\"Name: {name} Father Name: {fn} Age: {ag}\")"
   ]
  },
  {
   "cell_type": "markdown",
   "metadata": {},
   "source": [
    "# While loop\n",
    "\n",
    "```\n",
    "while logic: # True/False\n",
    "    loop_body\n",
    "```\n"
   ]
  },
  {
   "cell_type": "code",
   "execution_count": 23,
   "metadata": {},
   "outputs": [
    {
     "name": "stdout",
     "output_type": "stream",
     "text": [
      "Pakistan\n",
      "Pakistan\n",
      "Pakistan\n",
      "Pakistan\n",
      "Pakistan\n",
      "Pakistan\n",
      "Pakistan\n",
      "Pakistan\n",
      "Pakistan\n"
     ]
    }
   ],
   "source": [
    "flag: bool = True\n",
    "\n",
    "current_number: int = 1\n",
    "\n",
    "while flag:\n",
    "    print('Pakistan')\n",
    "    current_number += 1\n",
    "\n",
    "    if current_number == 10:\n",
    "        break"
   ]
  },
  {
   "cell_type": "code",
   "execution_count": 25,
   "metadata": {},
   "outputs": [
    {
     "name": "stdout",
     "output_type": "stream",
     "text": [
      "current index 0 and value 100\n",
      "current index 1 and value 200\n",
      "current index 2 and value 300\n"
     ]
    }
   ],
   "source": [
    "l1: list[int] = [100, 200, 300]\n",
    "\n",
    "index: int = 0\n",
    "\n",
    "while index < len(l1):\n",
    "    print(f\"current index {index} and value {l1[index]}\")\n",
    "    index += 1"
   ]
  },
  {
   "cell_type": "code",
   "execution_count": 29,
   "metadata": {},
   "outputs": [
    {
     "name": "stdout",
     "output_type": "stream",
     "text": [
      "write quit or exit to stop this program\n"
     ]
    }
   ],
   "source": [
    "data: list[dict[str, str]] = []\n",
    "\n",
    "flag: bool = True\n",
    "\n",
    "while flag:\n",
    "    print(\"write quit or exit to stop this program\")\n",
    "    name: str = input(\"Your good name? : \")\n",
    "    education: str = input(\"Your last education: \")\n",
    "\n",
    "    if name in [\"exit\", \"quit\"] or education in [\"exit\", \"quit\"]:\n",
    "        flag = False\n",
    "        break\n",
    "    data.append({\"name\": name, \"education\": education})"
   ]
  },
  {
   "cell_type": "markdown",
   "metadata": {},
   "source": [
    "# controls\n",
    "* break \n",
    "* continue\n",
    "* pass"
   ]
  },
  {
   "cell_type": "code",
   "execution_count": 30,
   "metadata": {},
   "outputs": [
    {
     "name": "stdout",
     "output_type": "stream",
     "text": [
      "1\n",
      "2\n",
      "3\n",
      "4\n",
      "5\n"
     ]
    }
   ],
   "source": [
    "for i in range(1,11):\n",
    "    print(i)\n",
    "    if i==5:\n",
    "        break"
   ]
  },
  {
   "cell_type": "code",
   "execution_count": 31,
   "metadata": {},
   "outputs": [
    {
     "name": "stdout",
     "output_type": "stream",
     "text": [
      "2 x 1 = 2\n",
      "2 x 2 = 4\n",
      "2 x 3 = 6\n",
      "2 x 4 = 8\n",
      "2 x 5 = 10\n",
      "2 x 6 = 12\n",
      "2 x 7 = 14\n",
      "2 x 8 = 16\n",
      "2 x 9 = 18\n",
      "2 x 10 = 20\n"
     ]
    }
   ],
   "source": [
    "for i in range(1,11):\n",
    "    print(f'2 x {i} = {i * 2}')"
   ]
  },
  {
   "cell_type": "code",
   "execution_count": 32,
   "metadata": {},
   "outputs": [
    {
     "name": "stdout",
     "output_type": "stream",
     "text": [
      "1\n",
      "2\n",
      "3\n",
      "4\n",
      "6\n",
      "7\n",
      "8\n",
      "9\n",
      "10\n"
     ]
    }
   ],
   "source": [
    "for i in range(1,11):\n",
    "    if i ==5:\n",
    "        continue\n",
    "    print(i)"
   ]
  },
  {
   "cell_type": "code",
   "execution_count": 33,
   "metadata": {},
   "outputs": [],
   "source": [
    "for i in range(1,11):\n",
    "    pass"
   ]
  },
  {
   "cell_type": "code",
   "execution_count": 35,
   "metadata": {},
   "outputs": [
    {
     "data": {
      "text/plain": [
       "[6, 10]"
      ]
     },
     "execution_count": 35,
     "metadata": {},
     "output_type": "execute_result"
    }
   ],
   "source": [
    "data : list[int] = [1,3,5,6,7,10]\n",
    "\n",
    "[i for i in data if i%2==0]"
   ]
  }
 ],
 "metadata": {
  "kernelspec": {
   "display_name": "python12",
   "language": "python",
   "name": "python3"
  },
  "language_info": {
   "codemirror_mode": {
    "name": "ipython",
    "version": 3
   },
   "file_extension": ".py",
   "mimetype": "text/x-python",
   "name": "python",
   "nbconvert_exporter": "python",
   "pygments_lexer": "ipython3",
   "version": "3.12.0"
  }
 },
 "nbformat": 4,
 "nbformat_minor": 2
}
