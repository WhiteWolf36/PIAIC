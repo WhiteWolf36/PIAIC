{
 "cells": [
  {
   "cell_type": "code",
   "execution_count": null,
   "metadata": {},
   "outputs": [],
   "source": [
    "# List\n",
    "\n",
    "data: list[str] = [\"Ahmad\", \"Ali\", \"Abdullah\"]"
   ]
  },
  {
   "cell_type": "markdown",
   "metadata": {},
   "source": [
    "# Set Data Type\n"
   ]
  },
  {
   "cell_type": "code",
   "execution_count": 12,
   "metadata": {},
   "outputs": [
    {
     "name": "stdout",
     "output_type": "stream",
     "text": [
      "{1, 2, 3, 7}\n"
     ]
    }
   ],
   "source": [
    "data: set = {\n",
    "    7,\n",
    "    1,\n",
    "    2,\n",
    "    1,\n",
    "    1,\n",
    "    1,\n",
    "    3,\n",
    "    2,\n",
    "}\n",
    "print(data)"
   ]
  },
  {
   "cell_type": "code",
   "execution_count": 13,
   "metadata": {},
   "outputs": [
    {
     "data": {
      "text/plain": [
       "['add',\n",
       " 'clear',\n",
       " 'copy',\n",
       " 'difference',\n",
       " 'difference_update',\n",
       " 'discard',\n",
       " 'intersection',\n",
       " 'intersection_update',\n",
       " 'isdisjoint',\n",
       " 'issubset',\n",
       " 'issuperset',\n",
       " 'pop',\n",
       " 'remove',\n",
       " 'symmetric_difference',\n",
       " 'symmetric_difference_update',\n",
       " 'union',\n",
       " 'update']"
      ]
     },
     "execution_count": 13,
     "metadata": {},
     "output_type": "execute_result"
    }
   ],
   "source": [
    "[i for i in dir(data) if (\"__\") not in i]"
   ]
  },
  {
   "cell_type": "markdown",
   "metadata": {},
   "source": [
    "# Dictionary\n",
    "\n",
    "- key value pair\n",
    "\n",
    "  - key replacement of indexes\n",
    "  - value item\n",
    "\n",
    "- dict_variable[key]\n",
    "  - dict_variable[new_key] : new_value\n",
    "    - add new value\n",
    "    - update value\n"
   ]
  },
  {
   "cell_type": "code",
   "execution_count": 9,
   "metadata": {},
   "outputs": [
    {
     "name": "stdout",
     "output_type": "stream",
     "text": [
      "{'education': 'BSCS', 'fname': 'Ahmad', 'lname': 'Ali'}\n"
     ]
    }
   ],
   "source": [
    "from typing import Dict\n",
    "import pprint\n",
    "\n",
    "data: Dict[str, str] = {\"fname\": \"Ahmad\", \"lname\": \"Ali\", \"education\": \"BSCS\"}\n",
    "pprint.pprint(data)"
   ]
  },
  {
   "cell_type": "code",
   "execution_count": 10,
   "metadata": {},
   "outputs": [
    {
     "name": "stdout",
     "output_type": "stream",
     "text": [
      "{'education': 'BSCS', 'fname': 'Ahmad', 'lname': 'Ali'}\n"
     ]
    }
   ],
   "source": [
    "from typing import Dict, Union, Optional\n",
    "import pprint\n",
    "\n",
    "Key = Union[int, str]  # create custom type\n",
    "Value = Union[str, int, list, Dict, set]\n",
    "\n",
    "data: Dict[Key, Value] = {\"fname\": \"Ahmad\", \"lname\": \"Ali\", \"education\": \"BSCS\"}\n",
    "pprint.pprint(data)"
   ]
  },
  {
   "cell_type": "code",
   "execution_count": 8,
   "metadata": {},
   "outputs": [
    {
     "name": "stdout",
     "output_type": "stream",
     "text": [
      "{'education': 'BSCS', 'fname': 'Ahmad', 'lname': 'Ali'}\n",
      "Ahmad\n",
      "Ali\n",
      "BSCS\n"
     ]
    }
   ],
   "source": [
    "from typing import Dict, Union, Optional\n",
    "import pprint\n",
    "\n",
    "Key = Union[int, str]  # create custom type\n",
    "Value = Union[str, int, list, Dict, set]\n",
    "\n",
    "data: Dict[Key, Value] = {\"fname\": \"Ahmad\", \"lname\": \"Ali\", \"education\": \"BSCS\"}\n",
    "pprint.pprint(data)\n",
    "\n",
    "print(data[\"fname\"])\n",
    "print(data[\"lname\"])\n",
    "print(data[\"education\"])"
   ]
  },
  {
   "cell_type": "code",
   "execution_count": 11,
   "metadata": {},
   "outputs": [
    {
     "name": "stdout",
     "output_type": "stream",
     "text": [
      "{0: 'Pakistan', 'education': 'BSCS', 'fname': 'Ahmad', 'lname': 'Ali'}\n",
      "Ahmad\n",
      "Ali\n",
      "BSCS\n",
      "Pakistan\n"
     ]
    }
   ],
   "source": [
    "from typing import Dict, Union, Optional\n",
    "import pprint\n",
    "\n",
    "Key = Union[int, str]  # create custom type\n",
    "Value = Union[str, int, list, Dict, set]\n",
    "\n",
    "data: Dict[Key, Value] = {\n",
    "    \"fname\": \"Ahmad\",\n",
    "    \"lname\": \"Ali\",\n",
    "    \"education\": \"BSCS\",\n",
    "    0: \"Pakistan\",\n",
    "}\n",
    "pprint.pprint(data)\n",
    "\n",
    "print(data[\"fname\"])\n",
    "print(data[\"lname\"])\n",
    "print(data[\"education\"])\n",
    "print(data[0])"
   ]
  },
  {
   "cell_type": "code",
   "execution_count": 16,
   "metadata": {},
   "outputs": [
    {
     "ename": "TypeError",
     "evalue": "unhashable type: 'list'",
     "output_type": "error",
     "traceback": [
      "\u001b[1;31m---------------------------------------------------------------------------\u001b[0m",
      "\u001b[1;31mTypeError\u001b[0m                                 Traceback (most recent call last)",
      "\u001b[1;32mc:\\Users\\Administrator\\Documents\\PIAIC\\Python Codes\\class 7\\class7.ipynb Cell 10\u001b[0m line \u001b[0;36m7\n\u001b[0;32m      <a href='vscode-notebook-cell:/c%3A/Users/Administrator/Documents/PIAIC/Python%20Codes/class%207/class7.ipynb#X16sZmlsZQ%3D%3D?line=3'>4</a>\u001b[0m Key \u001b[39m=\u001b[39m Union[\u001b[39mint\u001b[39m, \u001b[39mstr\u001b[39m]  \u001b[39m# create custom type\u001b[39;00m\n\u001b[0;32m      <a href='vscode-notebook-cell:/c%3A/Users/Administrator/Documents/PIAIC/Python%20Codes/class%207/class7.ipynb#X16sZmlsZQ%3D%3D?line=4'>5</a>\u001b[0m Value \u001b[39m=\u001b[39m Union[\u001b[39mstr\u001b[39m, \u001b[39mint\u001b[39m, \u001b[39mlist\u001b[39m, Dict, \u001b[39mset\u001b[39m]\n\u001b[1;32m----> <a href='vscode-notebook-cell:/c%3A/Users/Administrator/Documents/PIAIC/Python%20Codes/class%207/class7.ipynb#X16sZmlsZQ%3D%3D?line=6'>7</a>\u001b[0m data: Dict[Key, Value] \u001b[39m=\u001b[39m {\n\u001b[0;32m      <a href='vscode-notebook-cell:/c%3A/Users/Administrator/Documents/PIAIC/Python%20Codes/class%207/class7.ipynb#X16sZmlsZQ%3D%3D?line=7'>8</a>\u001b[0m                             \u001b[39m'\u001b[39m\u001b[39mfname\u001b[39m\u001b[39m'\u001b[39m: \u001b[39m'\u001b[39m\u001b[39mAhmad\u001b[39m\u001b[39m'\u001b[39m,\n\u001b[0;32m      <a href='vscode-notebook-cell:/c%3A/Users/Administrator/Documents/PIAIC/Python%20Codes/class%207/class7.ipynb#X16sZmlsZQ%3D%3D?line=8'>9</a>\u001b[0m                             \u001b[39m'\u001b[39m\u001b[39mlname\u001b[39m\u001b[39m'\u001b[39m: \u001b[39m'\u001b[39m\u001b[39mAli\u001b[39m\u001b[39m'\u001b[39m,\n\u001b[0;32m     <a href='vscode-notebook-cell:/c%3A/Users/Administrator/Documents/PIAIC/Python%20Codes/class%207/class7.ipynb#X16sZmlsZQ%3D%3D?line=9'>10</a>\u001b[0m                             \u001b[39m'\u001b[39m\u001b[39meducation\u001b[39m\u001b[39m'\u001b[39m: \u001b[39m'\u001b[39m\u001b[39mBSCS\u001b[39m\u001b[39m'\u001b[39m,\n\u001b[0;32m     <a href='vscode-notebook-cell:/c%3A/Users/Administrator/Documents/PIAIC/Python%20Codes/class%207/class7.ipynb#X16sZmlsZQ%3D%3D?line=10'>11</a>\u001b[0m                              \u001b[39m0\u001b[39m : \u001b[39m'\u001b[39m\u001b[39mPakistan\u001b[39m\u001b[39m'\u001b[39m,\n\u001b[0;32m     <a href='vscode-notebook-cell:/c%3A/Users/Administrator/Documents/PIAIC/Python%20Codes/class%207/class7.ipynb#X16sZmlsZQ%3D%3D?line=11'>12</a>\u001b[0m                               [\u001b[39m1\u001b[39m,\u001b[39m2\u001b[39m,\u001b[39m3\u001b[39m]:\u001b[39m\"\u001b[39m\u001b[39mPakistan\u001b[39m\u001b[39m\"\u001b[39m, \u001b[39m#\u001b[39;00m\n\u001b[0;32m     <a href='vscode-notebook-cell:/c%3A/Users/Administrator/Documents/PIAIC/Python%20Codes/class%207/class7.ipynb#X16sZmlsZQ%3D%3D?line=12'>13</a>\u001b[0m                              \u001b[39m#(1,2,3):'Pakistan', error\u001b[39;00m\n\u001b[0;32m     <a href='vscode-notebook-cell:/c%3A/Users/Administrator/Documents/PIAIC/Python%20Codes/class%207/class7.ipynb#X16sZmlsZQ%3D%3D?line=13'>14</a>\u001b[0m                              \u001b[39m# {1,2,3}:'pakistan' , error\u001b[39;00m\n\u001b[0;32m     <a href='vscode-notebook-cell:/c%3A/Users/Administrator/Documents/PIAIC/Python%20Codes/class%207/class7.ipynb#X16sZmlsZQ%3D%3D?line=14'>15</a>\u001b[0m                          }\n\u001b[0;32m     <a href='vscode-notebook-cell:/c%3A/Users/Administrator/Documents/PIAIC/Python%20Codes/class%207/class7.ipynb#X16sZmlsZQ%3D%3D?line=15'>16</a>\u001b[0m pprint\u001b[39m.\u001b[39mpprint(data)\n\u001b[0;32m     <a href='vscode-notebook-cell:/c%3A/Users/Administrator/Documents/PIAIC/Python%20Codes/class%207/class7.ipynb#X16sZmlsZQ%3D%3D?line=17'>18</a>\u001b[0m \u001b[39mprint\u001b[39m(data[\u001b[39m'\u001b[39m\u001b[39mfname\u001b[39m\u001b[39m'\u001b[39m])\n",
      "\u001b[1;31mTypeError\u001b[0m: unhashable type: 'list'"
     ]
    }
   ],
   "source": [
    "from typing import Dict, Union, Optional\n",
    "import pprint\n",
    "\n",
    "Key = Union[int, str]  # create custom type\n",
    "Value = Union[str, int, list, Dict, set]\n",
    "\n",
    "data: Dict[Key, Value] = {\n",
    "    \"fname\": \"Ahmad\",\n",
    "    \"lname\": \"Ali\",\n",
    "    \"education\": \"BSCS\",\n",
    "    0: \"Pakistan\",\n",
    "    # [1,2,3]:\"Pakistan\", error\n",
    "    # (1,2,3):'Pakistan', error\n",
    "    # {1,2,3}:'pakistan' , error\n",
    "}\n",
    "pprint.pprint(data)\n",
    "\n",
    "print(data[\"fname\"])\n",
    "print(data[\"lname\"])\n",
    "print(data[\"education\"])\n",
    "print(data[0])"
   ]
  },
  {
   "cell_type": "code",
   "execution_count": 18,
   "metadata": {},
   "outputs": [
    {
     "name": "stdout",
     "output_type": "stream",
     "text": [
      "{0: 'Pakistan',\n",
      " 'abc': [1, 2, 3],\n",
      " 'cde': (4, 5, 6),\n",
      " 'education': 'BSCS',\n",
      " 'fname': 'Ahmad',\n",
      " 'lname': 'Ali',\n",
      " 'xyz': {'a': 1, 'b': 2, 'c': 3}}\n",
      "Ahmad\n",
      "Ali\n",
      "BSCS\n",
      "Pakistan\n"
     ]
    }
   ],
   "source": [
    "from typing import Dict, Union, Optional\n",
    "import pprint\n",
    "\n",
    "Key = Union[int, str]  # create custom type\n",
    "Value = Union[str, int, list, Dict, set]\n",
    "\n",
    "data: Dict[Key, Value] = {\n",
    "    \"fname\": \"Ahmad\",\n",
    "    \"lname\": \"Ali\",\n",
    "    \"education\": \"BSCS\",\n",
    "    0: \"Pakistan\",\n",
    "    \"abc\": [1, 2, 3],\n",
    "    \"cde\": (4, 5, 6),\n",
    "    \"xyz\": {\"a\": 1, \"b\": 2, \"c\": 3},\n",
    "}\n",
    "pprint.pprint(data)\n",
    "\n",
    "print(data[\"fname\"])\n",
    "print(data[\"lname\"])\n",
    "print(data[\"education\"])\n",
    "print(data[0])"
   ]
  },
  {
   "cell_type": "code",
   "execution_count": 21,
   "metadata": {},
   "outputs": [
    {
     "name": "stdout",
     "output_type": "stream",
     "text": [
      "{}\n",
      "{'fname': 'Ahmad', 'lname': 'Aziz', 'education': 'BSCS'}\n"
     ]
    }
   ],
   "source": [
    "from typing import Dict, Union, Optional\n",
    "import pprint\n",
    "\n",
    "Key = Union[int, str]  # create custom type\n",
    "Value = Union[str, int, list, Dict, set]\n",
    "\n",
    "data: dict[Key, Value] = {}\n",
    "print(data)\n",
    "\n",
    "data[\"fname\"] = \"Ahmad\"\n",
    "data[\"lname\"] = \"Aziz\"\n",
    "data[\"education\"] = \"BSCS\"\n",
    "print(data)"
   ]
  },
  {
   "cell_type": "code",
   "execution_count": 24,
   "metadata": {},
   "outputs": [
    {
     "name": "stdout",
     "output_type": "stream",
     "text": [
      "{'fname': 'Ahmad', 'lname': 'Ali', 'education': 'BSCS', 0: 'Pakistan'}\n",
      "{'fname': 'Ahmad', 'lname': 'Aziz', 'education': 'BSCS', 0: 'Pakistan'}\n"
     ]
    }
   ],
   "source": [
    "from typing import Dict, Union, Optional\n",
    "import pprint\n",
    "\n",
    "Key = Union[int, str]  # create custom type\n",
    "Value = Union[str, int, list, Dict, set]\n",
    "\n",
    "data: Dict[Key, Value] = {\n",
    "    \"fname\": \"Ahmad\",\n",
    "    \"lname\": \"Ali\",\n",
    "    \"education\": \"BSCS\",\n",
    "    0: \"Pakistan\",\n",
    "}\n",
    "\n",
    "print(data)\n",
    "\n",
    "data[\"lname\"] = \"Aziz\"\n",
    "\n",
    "print(data)"
   ]
  },
  {
   "cell_type": "code",
   "execution_count": 25,
   "metadata": {},
   "outputs": [
    {
     "ename": "KeyError",
     "evalue": "'pakistan'",
     "output_type": "error",
     "traceback": [
      "\u001b[1;31m---------------------------------------------------------------------------\u001b[0m",
      "\u001b[1;31mKeyError\u001b[0m                                  Traceback (most recent call last)",
      "\u001b[1;32mc:\\Users\\Administrator\\Documents\\PIAIC\\Python Codes\\class 7\\class7.ipynb Cell 14\u001b[0m line \u001b[0;36m1\n\u001b[0;32m      <a href='vscode-notebook-cell:/c%3A/Users/Administrator/Documents/PIAIC/Python%20Codes/class%207/class7.ipynb#X23sZmlsZQ%3D%3D?line=4'>5</a>\u001b[0m Value \u001b[39m=\u001b[39m Union[\u001b[39mstr\u001b[39m, \u001b[39mint\u001b[39m, \u001b[39mlist\u001b[39m, Dict, \u001b[39mset\u001b[39m]\n\u001b[0;32m      <a href='vscode-notebook-cell:/c%3A/Users/Administrator/Documents/PIAIC/Python%20Codes/class%207/class7.ipynb#X23sZmlsZQ%3D%3D?line=6'>7</a>\u001b[0m data: Dict[Key, Value] \u001b[39m=\u001b[39m {\n\u001b[0;32m      <a href='vscode-notebook-cell:/c%3A/Users/Administrator/Documents/PIAIC/Python%20Codes/class%207/class7.ipynb#X23sZmlsZQ%3D%3D?line=7'>8</a>\u001b[0m     \u001b[39m\"\u001b[39m\u001b[39mfname\u001b[39m\u001b[39m\"\u001b[39m: \u001b[39m\"\u001b[39m\u001b[39mAhmad\u001b[39m\u001b[39m\"\u001b[39m,\n\u001b[0;32m      <a href='vscode-notebook-cell:/c%3A/Users/Administrator/Documents/PIAIC/Python%20Codes/class%207/class7.ipynb#X23sZmlsZQ%3D%3D?line=8'>9</a>\u001b[0m     \u001b[39m\"\u001b[39m\u001b[39mlname\u001b[39m\u001b[39m\"\u001b[39m: \u001b[39m\"\u001b[39m\u001b[39mAli\u001b[39m\u001b[39m\"\u001b[39m,\n\u001b[0;32m     <a href='vscode-notebook-cell:/c%3A/Users/Administrator/Documents/PIAIC/Python%20Codes/class%207/class7.ipynb#X23sZmlsZQ%3D%3D?line=9'>10</a>\u001b[0m     \u001b[39m\"\u001b[39m\u001b[39meducation\u001b[39m\u001b[39m\"\u001b[39m: \u001b[39m\"\u001b[39m\u001b[39mBSCS\u001b[39m\u001b[39m\"\u001b[39m,\n\u001b[0;32m     <a href='vscode-notebook-cell:/c%3A/Users/Administrator/Documents/PIAIC/Python%20Codes/class%207/class7.ipynb#X23sZmlsZQ%3D%3D?line=10'>11</a>\u001b[0m     \u001b[39m0\u001b[39m: \u001b[39m\"\u001b[39m\u001b[39mPakistan\u001b[39m\u001b[39m\"\u001b[39m,\n\u001b[0;32m     <a href='vscode-notebook-cell:/c%3A/Users/Administrator/Documents/PIAIC/Python%20Codes/class%207/class7.ipynb#X23sZmlsZQ%3D%3D?line=11'>12</a>\u001b[0m }\n\u001b[1;32m---> <a href='vscode-notebook-cell:/c%3A/Users/Administrator/Documents/PIAIC/Python%20Codes/class%207/class7.ipynb#X23sZmlsZQ%3D%3D?line=12'>13</a>\u001b[0m \u001b[39mprint\u001b[39m(data[\u001b[39m'\u001b[39;49m\u001b[39mpakistan\u001b[39;49m\u001b[39m'\u001b[39;49m])\n",
      "\u001b[1;31mKeyError\u001b[0m: 'pakistan'"
     ]
    }
   ],
   "source": [
    "from typing import Dict, Union, Optional\n",
    "import pprint\n",
    "\n",
    "Key = Union[int, str]  # create custom type\n",
    "Value = Union[str, int, list, Dict, set]\n",
    "\n",
    "data: Dict[Key, Value] = {\n",
    "    \"fname\": \"Ahmad\",\n",
    "    \"lname\": \"Ali\",\n",
    "    \"education\": \"BSCS\",\n",
    "    0: \"Pakistan\",\n",
    "}\n",
    "print(data[\"pakistan\"])"
   ]
  },
  {
   "cell_type": "code",
   "execution_count": 28,
   "metadata": {},
   "outputs": [
    {
     "name": "stdout",
     "output_type": "stream",
     "text": [
      "NA\n",
      "Ahmad\n"
     ]
    }
   ],
   "source": [
    "from typing import Dict, Union, Optional\n",
    "import pprint\n",
    "\n",
    "Key = Union[int, str]  # create custom type\n",
    "Value = Union[str, int, list, Dict, set]\n",
    "\n",
    "data: Dict[Key, Value] = {\n",
    "    \"fname\": \"Ahmad\",\n",
    "    \"lname\": \"Ali\",\n",
    "    \"education\": \"BSCS\",\n",
    "    0: \"Pakistan\",\n",
    "}\n",
    "print(data.get(\"pakistan\", \"NA\"))\n",
    "print(data.get(\"fname\", \"NA\"))"
   ]
  },
  {
   "cell_type": "code",
   "execution_count": 29,
   "metadata": {},
   "outputs": [
    {
     "name": "stdout",
     "output_type": "stream",
     "text": [
      "fname\n",
      "lname\n",
      "education\n",
      "0\n"
     ]
    }
   ],
   "source": [
    "from typing import Dict, Union, Optional\n",
    "import pprint\n",
    "\n",
    "Key = Union[int, str]  # create custom type\n",
    "Value = Union[str, int, list, Dict, set]\n",
    "\n",
    "data: Dict[Key, Value] = {\n",
    "    \"fname\": \"Ahmad\",\n",
    "    \"lname\": \"Ali\",\n",
    "    \"education\": \"BSCS\",\n",
    "    0: \"Pakistan\",\n",
    "}\n",
    "\n",
    "for d in data:\n",
    "    print(d)"
   ]
  },
  {
   "cell_type": "code",
   "execution_count": 31,
   "metadata": {},
   "outputs": [
    {
     "name": "stdout",
     "output_type": "stream",
     "text": [
      "dict_keys(['fname', 'lname', 'education', 0])\n",
      "dict_values(['Ahmad', 'Ali', 'BSCS', 'Pakistan'])\n",
      "dict_items([('fname', 'Ahmad'), ('lname', 'Ali'), ('education', 'BSCS'), (0, 'Pakistan')])\n"
     ]
    }
   ],
   "source": [
    "print(data.keys())\n",
    "print(data.values())\n",
    "print(data.items())"
   ]
  },
  {
   "cell_type": "code",
   "execution_count": 33,
   "metadata": {},
   "outputs": [
    {
     "name": "stdout",
     "output_type": "stream",
     "text": [
      "fname Ahmad\n",
      "lname Ali\n",
      "education BSCS\n",
      "0 Pakistan\n",
      "Ahmad\n",
      "Ali\n",
      "BSCS\n",
      "Pakistan\n"
     ]
    }
   ],
   "source": [
    "for k in data.keys():\n",
    "    print(k, data[k])\n",
    "\n",
    "for v in data.values():\n",
    "    print(v)"
   ]
  },
  {
   "cell_type": "code",
   "execution_count": 34,
   "metadata": {},
   "outputs": [
    {
     "name": "stdout",
     "output_type": "stream",
     "text": [
      "('fname', 'Ahmad')\n",
      "('lname', 'Ali')\n",
      "('education', 'BSCS')\n",
      "(0, 'Pakistan')\n"
     ]
    }
   ],
   "source": [
    "for i in data.items():\n",
    "    print(i)"
   ]
  },
  {
   "cell_type": "code",
   "execution_count": 35,
   "metadata": {},
   "outputs": [
    {
     "name": "stdout",
     "output_type": "stream",
     "text": [
      "fname Ahmad\n",
      "lname Ali\n",
      "education BSCS\n",
      "0 Pakistan\n"
     ]
    }
   ],
   "source": [
    "for k, v in data.items():\n",
    "    print(k, v)"
   ]
  },
  {
   "cell_type": "markdown",
   "metadata": {},
   "source": [
    "# Shuffling using Dictionary Comprehenisve\n"
   ]
  },
  {
   "cell_type": "code",
   "execution_count": 39,
   "metadata": {},
   "outputs": [
    {
     "data": {
      "text/plain": [
       "{'Ahmad': 'fname', 'Ali': 'lname', 'BSCS': 'education', 'Pakistan': 0}"
      ]
     },
     "execution_count": 39,
     "metadata": {},
     "output_type": "execute_result"
    }
   ],
   "source": [
    "{v: k for k, v in data.items()}"
   ]
  },
  {
   "cell_type": "code",
   "execution_count": 40,
   "metadata": {},
   "outputs": [
    {
     "data": {
      "text/plain": [
       "{'fname': 'Ahmad', 'lname': 'Ali', 'education': 'BSCS', 0: 'Pakistan'}"
      ]
     },
     "execution_count": 40,
     "metadata": {},
     "output_type": "execute_result"
    }
   ],
   "source": [
    "{k: v for k, v in data.items()}"
   ]
  },
  {
   "cell_type": "code",
   "execution_count": 43,
   "metadata": {},
   "outputs": [
    {
     "name": "stdout",
     "output_type": "stream",
     "text": [
      "{}\n",
      "{'fname': None, 'lname': None, 'education': None}\n"
     ]
    }
   ],
   "source": [
    "keys: list[str] = [\"fname\", \"lname\", \"education\"]\n",
    "\n",
    "data: dict[Key, Value] = {}\n",
    "\n",
    "print(data)\n",
    "\n",
    "data = data.fromkeys(keys)\n",
    "\n",
    "print(data)"
   ]
  }
 ],
 "metadata": {
  "kernelspec": {
   "display_name": "python12",
   "language": "python",
   "name": "python3"
  },
  "language_info": {
   "codemirror_mode": {
    "name": "ipython",
    "version": 3
   },
   "file_extension": ".py",
   "mimetype": "text/x-python",
   "name": "python",
   "nbconvert_exporter": "python",
   "pygments_lexer": "ipython3",
   "version": "3.12.0"
  }
 },
 "nbformat": 4,
 "nbformat_minor": 2
}
