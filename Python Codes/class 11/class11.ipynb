{
 "cells": [
  {
   "cell_type": "code",
   "execution_count": 1,
   "metadata": {},
   "outputs": [
    {
     "name": "stdout",
     "output_type": "stream",
     "text": [
      "list_b [1, 2, 3, 4]\n"
     ]
    }
   ],
   "source": [
    "list_a  : list[int] =[1,2,3]\n",
    "list_b = list_a\n",
    "list_a.append(4)\n",
    "\n",
    "print('list_b',list_b)"
   ]
  },
  {
   "cell_type": "markdown",
   "metadata": {},
   "source": [
    "# Address Changes without Function Calls"
   ]
  },
  {
   "cell_type": "code",
   "execution_count": 2,
   "metadata": {},
   "outputs": [
    {
     "name": "stdout",
     "output_type": "stream",
     "text": [
      "Before Modification:  10 140703599119064\n",
      "After Modification:  11 140703599119096\n"
     ]
    }
   ],
   "source": [
    "x = 10\n",
    "print('Before Modification: ',x ,id(x))\n",
    "x+=1\n",
    "print('After Modification: ',x ,id(x))"
   ]
  },
  {
   "cell_type": "code",
   "execution_count": 14,
   "metadata": {},
   "outputs": [
    {
     "name": "stdout",
     "output_type": "stream",
     "text": [
      "Start of program a = 5 id of a = 140703599118904\n",
      "\tStart of function num1 = 5 id of num1 = 140703599118904\n",
      "\tEnd of function num1 = 6 id of num1 = 140703599118936\n",
      "End of program a = 5 id of a = 140703599118904\n"
     ]
    }
   ],
   "source": [
    "a : int = 5\n",
    "\n",
    "print(f'Start of program a = {a} id of a = {id(a)}')\n",
    "\n",
    "def abc(num1: int)->None:\n",
    "    print(f'\\tStart of function num1 = {num1} id of num1 = {id(num1)}')\n",
    "    num1=6\n",
    "    print(f'\\tEnd of function num1 = {num1} id of num1 = {id(num1)}')   # change here\n",
    "\n",
    "\n",
    "\n",
    "abc(a)  # pass by value immutable data types\n",
    "\n",
    "print(f'End of program a = {a} id of a = {id(a)}')"
   ]
  },
  {
   "cell_type": "code",
   "execution_count": 16,
   "metadata": {},
   "outputs": [
    {
     "name": "stdout",
     "output_type": "stream",
     "text": [
      "value of x 7 id of x 140703599118968\n",
      "value of b 7 id of b 140703599118968\n",
      "value of b 200 id of b 140703599125144\n"
     ]
    }
   ],
   "source": [
    "x : int = 7\n",
    "\n",
    "b = x\n",
    "\n",
    "print(f\"value of x {x} id of x {id(x)}\")\n",
    "print(f\"value of b {b} id of b {id(b)}\")\n",
    "\n",
    "b = 200\n",
    "\n",
    "print(f\"value of b {b} id of b {id(b)}\")"
   ]
  },
  {
   "cell_type": "code",
   "execution_count": 17,
   "metadata": {},
   "outputs": [
    {
     "name": "stdout",
     "output_type": "stream",
     "text": [
      "value of x 7 id of x 140703599118968\n",
      "value of b 7 id of b 140703599118968\n",
      "value of b 200 id of b 140703599125144\n"
     ]
    }
   ],
   "source": [
    "x : int = 7\n",
    "\n",
    "b : int = 7\n",
    "\n",
    "print(f\"value of x {x} id of x {id(x)}\")\n",
    "print(f\"value of b {b} id of b {id(b)}\")\n",
    "\n",
    "b = 200\n",
    "\n",
    "print(f\"value of b {b} id of b {id(b)}\")"
   ]
  },
  {
   "cell_type": "code",
   "execution_count": 19,
   "metadata": {},
   "outputs": [
    {
     "name": "stdout",
     "output_type": "stream",
     "text": [
      "value of x 7 id of x 140703599118968\n",
      "value of b 7 id of b 140703599118968\n",
      "value of b 200 id of b 140703599125144\n"
     ]
    }
   ],
   "source": [
    "x : int = 7\n",
    "\n",
    "b : int = int(x) # changes then it will create a new object\n",
    "\n",
    "print(f\"value of x {x} id of x {id(x)}\")\n",
    "print(f\"value of b {b} id of b {id(b)}\")\n",
    "\n",
    "b = 200\n",
    "\n",
    "print(f\"value of b {b} id of b {id(b)}\")"
   ]
  },
  {
   "cell_type": "code",
   "execution_count": 4,
   "metadata": {},
   "outputs": [
    {
     "name": "stdout",
     "output_type": "stream",
     "text": [
      "num1 value is: [1, 2, 3, 4, 5, 6]\n",
      "value of a: [1, 2, 3, 4, 5, 6]\n"
     ]
    }
   ],
   "source": [
    "a : list[int] = [1,2,3,4,5]\n",
    "def abc(num1: list[int])->None:\n",
    "    num1.append(6)\n",
    "    print('num1 value is:',num1)\n",
    "\n",
    "abc(a) # pass by reference mutable data object\n",
    "\n",
    "print('value of a:', a)"
   ]
  },
  {
   "cell_type": "code",
   "execution_count": 20,
   "metadata": {},
   "outputs": [
    {
     "name": "stdout",
     "output_type": "stream",
     "text": [
      "num1 value is: [7]\n",
      "value of a: [1, 2, 3, 4, 5]\n"
     ]
    }
   ],
   "source": [
    "a : list[int] = [1,2,3,4,5]\n",
    "def abc(num1: list[int])->None:\n",
    "    num1 : list[int] = [7]\n",
    "    print('num1 value is:',num1)\n",
    "\n",
    "abc(a) # pass by reference mutable data object\n",
    "\n",
    "print('value of a:', a)"
   ]
  },
  {
   "cell_type": "code",
   "execution_count": 21,
   "metadata": {},
   "outputs": [
    {
     "name": "stdout",
     "output_type": "stream",
     "text": [
      "2266009881920\n",
      "2266011319360\n"
     ]
    }
   ],
   "source": [
    "a : list[int] =[1,2,3,4]\n",
    "b : list[int] =[1,2,3,4]\n",
    "\n",
    "print(id(a))\n",
    "print(id(b))"
   ]
  },
  {
   "cell_type": "markdown",
   "metadata": {},
   "source": [
    "# Run time Errors"
   ]
  },
  {
   "cell_type": "code",
   "execution_count": 23,
   "metadata": {},
   "outputs": [
    {
     "ename": "ZeroDivisionError",
     "evalue": "division by zero",
     "output_type": "error",
     "traceback": [
      "\u001b[1;31m---------------------------------------------------------------------------\u001b[0m",
      "\u001b[1;31mZeroDivisionError\u001b[0m                         Traceback (most recent call last)",
      "\u001b[1;32mc:\\Users\\Administrator\\Documents\\PIAIC\\Python Codes\\class 11\\class11.ipynb Cell 12\u001b[0m line \u001b[0;36m4\n\u001b[0;32m      <a href='vscode-notebook-cell:/c%3A/Users/Administrator/Documents/PIAIC/Python%20Codes/class%2011/class11.ipynb#X15sZmlsZQ%3D%3D?line=0'>1</a>\u001b[0m a : \u001b[39mint\u001b[39m \u001b[39m=\u001b[39m \u001b[39mint\u001b[39m(\u001b[39minput\u001b[39m(\u001b[39m'\u001b[39m\u001b[39mEnter number 1 \u001b[39m\u001b[39m'\u001b[39m))\n\u001b[0;32m      <a href='vscode-notebook-cell:/c%3A/Users/Administrator/Documents/PIAIC/Python%20Codes/class%2011/class11.ipynb#X15sZmlsZQ%3D%3D?line=1'>2</a>\u001b[0m b : \u001b[39mint\u001b[39m \u001b[39m=\u001b[39m \u001b[39mint\u001b[39m(\u001b[39minput\u001b[39m(\u001b[39m'\u001b[39m\u001b[39mEnter number 2 \u001b[39m\u001b[39m'\u001b[39m))\n\u001b[1;32m----> <a href='vscode-notebook-cell:/c%3A/Users/Administrator/Documents/PIAIC/Python%20Codes/class%2011/class11.ipynb#X15sZmlsZQ%3D%3D?line=3'>4</a>\u001b[0m \u001b[39mprint\u001b[39m(a\u001b[39m/\u001b[39;49mb)\n",
      "\u001b[1;31mZeroDivisionError\u001b[0m: division by zero"
     ]
    }
   ],
   "source": [
    "a : int = int(input('Enter number 1 '))\n",
    "b : int = int(input('Enter number 2 '))\n",
    "\n",
    "print(a/b)"
   ]
  },
  {
   "cell_type": "code",
   "execution_count": 24,
   "metadata": {},
   "outputs": [
    {
     "ename": "IndexError",
     "evalue": "list index out of range",
     "output_type": "error",
     "traceback": [
      "\u001b[1;31m---------------------------------------------------------------------------\u001b[0m",
      "\u001b[1;31mIndexError\u001b[0m                                Traceback (most recent call last)",
      "\u001b[1;32mc:\\Users\\Administrator\\Documents\\PIAIC\\Python Codes\\class 11\\class11.ipynb Cell 13\u001b[0m line \u001b[0;36m5\n\u001b[0;32m      <a href='vscode-notebook-cell:/c%3A/Users/Administrator/Documents/PIAIC/Python%20Codes/class%2011/class11.ipynb#X16sZmlsZQ%3D%3D?line=0'>1</a>\u001b[0m names : \u001b[39mlist\u001b[39m[\u001b[39mstr\u001b[39m] \u001b[39m=\u001b[39m [\u001b[39m'\u001b[39m\u001b[39mAhmad\u001b[39m\u001b[39m'\u001b[39m,\u001b[39m'\u001b[39m\u001b[39mAli\u001b[39m\u001b[39m'\u001b[39m,\u001b[39m'\u001b[39m\u001b[39mQasim\u001b[39m\u001b[39m'\u001b[39m]\n\u001b[0;32m      <a href='vscode-notebook-cell:/c%3A/Users/Administrator/Documents/PIAIC/Python%20Codes/class%2011/class11.ipynb#X16sZmlsZQ%3D%3D?line=2'>3</a>\u001b[0m index : \u001b[39mint\u001b[39m \u001b[39m=\u001b[39m \u001b[39mint\u001b[39m(\u001b[39minput\u001b[39m(\u001b[39m\"\u001b[39m\u001b[39mEnter index number: \u001b[39m\u001b[39m\"\u001b[39m))\n\u001b[1;32m----> <a href='vscode-notebook-cell:/c%3A/Users/Administrator/Documents/PIAIC/Python%20Codes/class%2011/class11.ipynb#X16sZmlsZQ%3D%3D?line=4'>5</a>\u001b[0m \u001b[39mprint\u001b[39m(names[index])\n",
      "\u001b[1;31mIndexError\u001b[0m: list index out of range"
     ]
    }
   ],
   "source": [
    "names : list[str] = ['Ahmad','Ali','Qasim']\n",
    "\n",
    "index : int = int(input(\"Enter index number: \"))\n",
    "\n",
    "print(names[index])"
   ]
  },
  {
   "cell_type": "code",
   "execution_count": 26,
   "metadata": {},
   "outputs": [
    {
     "ename": "TypeError",
     "evalue": "'tuple' object does not support item assignment",
     "output_type": "error",
     "traceback": [
      "\u001b[1;31m---------------------------------------------------------------------------\u001b[0m",
      "\u001b[1;31mTypeError\u001b[0m                                 Traceback (most recent call last)",
      "\u001b[1;32mc:\\Users\\Administrator\\Documents\\PIAIC\\Python Codes\\class 11\\class11.ipynb Cell 14\u001b[0m line \u001b[0;36m3\n\u001b[0;32m      <a href='vscode-notebook-cell:/c%3A/Users/Administrator/Documents/PIAIC/Python%20Codes/class%2011/class11.ipynb#X20sZmlsZQ%3D%3D?line=0'>1</a>\u001b[0m data : \u001b[39mtuple\u001b[39m[\u001b[39mint\u001b[39m,\u001b[39mint\u001b[39m,\u001b[39mint\u001b[39m]\u001b[39m=\u001b[39m(\u001b[39m1\u001b[39m,\u001b[39m2\u001b[39m,\u001b[39m3\u001b[39m)\n\u001b[1;32m----> <a href='vscode-notebook-cell:/c%3A/Users/Administrator/Documents/PIAIC/Python%20Codes/class%2011/class11.ipynb#X20sZmlsZQ%3D%3D?line=2'>3</a>\u001b[0m data[\u001b[39m0\u001b[39;49m]\u001b[39m=\u001b[39m\u001b[39m200\u001b[39m\n",
      "\u001b[1;31mTypeError\u001b[0m: 'tuple' object does not support item assignment"
     ]
    }
   ],
   "source": [
    "data : tuple[int,int,int]=(1,2,3)\n",
    "\n",
    "data[0]=200"
   ]
  },
  {
   "cell_type": "code",
   "execution_count": 27,
   "metadata": {},
   "outputs": [
    {
     "ename": "NameError",
     "evalue": "name 'fathername' is not defined",
     "output_type": "error",
     "traceback": [
      "\u001b[1;31m---------------------------------------------------------------------------\u001b[0m",
      "\u001b[1;31mNameError\u001b[0m                                 Traceback (most recent call last)",
      "\u001b[1;32mc:\\Users\\Administrator\\Documents\\PIAIC\\Python Codes\\class 11\\class11.ipynb Cell 15\u001b[0m line \u001b[0;36m5\n\u001b[0;32m      <a href='vscode-notebook-cell:/c%3A/Users/Administrator/Documents/PIAIC/Python%20Codes/class%2011/class11.ipynb#X21sZmlsZQ%3D%3D?line=0'>1</a>\u001b[0m data : \u001b[39mdict\u001b[39m[\u001b[39mstr\u001b[39m,\u001b[39mstr\u001b[39m]\u001b[39m=\u001b[39m {\n\u001b[0;32m      <a href='vscode-notebook-cell:/c%3A/Users/Administrator/Documents/PIAIC/Python%20Codes/class%2011/class11.ipynb#X21sZmlsZQ%3D%3D?line=1'>2</a>\u001b[0m     \u001b[39m'\u001b[39m\u001b[39mname\u001b[39m\u001b[39m'\u001b[39m:\u001b[39m\"\u001b[39m\u001b[39mahmad\u001b[39m\u001b[39m\"\u001b[39m,\n\u001b[0;32m      <a href='vscode-notebook-cell:/c%3A/Users/Administrator/Documents/PIAIC/Python%20Codes/class%2011/class11.ipynb#X21sZmlsZQ%3D%3D?line=2'>3</a>\u001b[0m     \u001b[39m'\u001b[39m\u001b[39mage\u001b[39m\u001b[39m'\u001b[39m:\u001b[39m20\u001b[39m\n\u001b[0;32m      <a href='vscode-notebook-cell:/c%3A/Users/Administrator/Documents/PIAIC/Python%20Codes/class%2011/class11.ipynb#X21sZmlsZQ%3D%3D?line=3'>4</a>\u001b[0m }\n\u001b[1;32m----> <a href='vscode-notebook-cell:/c%3A/Users/Administrator/Documents/PIAIC/Python%20Codes/class%2011/class11.ipynb#X21sZmlsZQ%3D%3D?line=4'>5</a>\u001b[0m data[fathername]\n",
      "\u001b[1;31mNameError\u001b[0m: name 'fathername' is not defined"
     ]
    }
   ],
   "source": [
    "data : dict[str,str]= {\n",
    "    'name':\"ahmad\",\n",
    "    'age':20\n",
    "}\n",
    "data[fathername]"
   ]
  },
  {
   "cell_type": "code",
   "execution_count": 28,
   "metadata": {},
   "outputs": [
    {
     "ename": "FileNotFoundError",
     "evalue": "[Errno 2] No such file or directory: 'abc.txt'",
     "output_type": "error",
     "traceback": [
      "\u001b[1;31m---------------------------------------------------------------------------\u001b[0m",
      "\u001b[1;31mFileNotFoundError\u001b[0m                         Traceback (most recent call last)",
      "\u001b[1;32mc:\\Users\\Administrator\\Documents\\PIAIC\\Python Codes\\class 11\\class11.ipynb Cell 16\u001b[0m line \u001b[0;36m1\n\u001b[1;32m----> <a href='vscode-notebook-cell:/c%3A/Users/Administrator/Documents/PIAIC/Python%20Codes/class%2011/class11.ipynb#X22sZmlsZQ%3D%3D?line=0'>1</a>\u001b[0m \u001b[39mopen\u001b[39;49m(\u001b[39m'\u001b[39;49m\u001b[39mabc.txt\u001b[39;49m\u001b[39m'\u001b[39;49m)\n",
      "File \u001b[1;32mc:\\ProgramData\\anaconda3\\envs\\python12\\Lib\\site-packages\\IPython\\core\\interactiveshell.py:286\u001b[0m, in \u001b[0;36m_modified_open\u001b[1;34m(file, *args, **kwargs)\u001b[0m\n\u001b[0;32m    279\u001b[0m \u001b[39mif\u001b[39;00m file \u001b[39min\u001b[39;00m {\u001b[39m0\u001b[39m, \u001b[39m1\u001b[39m, \u001b[39m2\u001b[39m}:\n\u001b[0;32m    280\u001b[0m     \u001b[39mraise\u001b[39;00m \u001b[39mValueError\u001b[39;00m(\n\u001b[0;32m    281\u001b[0m         \u001b[39mf\u001b[39m\u001b[39m\"\u001b[39m\u001b[39mIPython won\u001b[39m\u001b[39m'\u001b[39m\u001b[39mt let you open fd=\u001b[39m\u001b[39m{\u001b[39;00mfile\u001b[39m}\u001b[39;00m\u001b[39m by default \u001b[39m\u001b[39m\"\u001b[39m\n\u001b[0;32m    282\u001b[0m         \u001b[39m\"\u001b[39m\u001b[39mas it is likely to crash IPython. If you know what you are doing, \u001b[39m\u001b[39m\"\u001b[39m\n\u001b[0;32m    283\u001b[0m         \u001b[39m\"\u001b[39m\u001b[39myou can use builtins\u001b[39m\u001b[39m'\u001b[39m\u001b[39m open.\u001b[39m\u001b[39m\"\u001b[39m\n\u001b[0;32m    284\u001b[0m     )\n\u001b[1;32m--> 286\u001b[0m \u001b[39mreturn\u001b[39;00m io_open(file, \u001b[39m*\u001b[39;49margs, \u001b[39m*\u001b[39;49m\u001b[39m*\u001b[39;49mkwargs)\n",
      "\u001b[1;31mFileNotFoundError\u001b[0m: [Errno 2] No such file or directory: 'abc.txt'"
     ]
    }
   ],
   "source": [
    "open('abc.txt')"
   ]
  },
  {
   "cell_type": "markdown",
   "metadata": {},
   "source": [
    "# Handle Run time Error\n",
    "\n",
    "```\n",
    "try:\n",
    "    logic\n",
    "except(Error_class1, Error_class2):\n",
    "    if error occures than this block is run\n",
    "else:\n",
    "    if no error\n",
    "finally:\n",
    "    always run\n",
    "```"
   ]
  },
  {
   "cell_type": "code",
   "execution_count": 31,
   "metadata": {},
   "outputs": [
    {
     "name": "stdout",
     "output_type": "stream",
     "text": [
      "logic1\n",
      "logic2\n"
     ]
    },
    {
     "ename": "ZeroDivisionError",
     "evalue": "division by zero",
     "output_type": "error",
     "traceback": [
      "\u001b[1;31m---------------------------------------------------------------------------\u001b[0m",
      "\u001b[1;31mZeroDivisionError\u001b[0m                         Traceback (most recent call last)",
      "\u001b[1;32mc:\\Users\\Administrator\\Documents\\PIAIC\\Python Codes\\class 11\\class11.ipynb Cell 18\u001b[0m line \u001b[0;36m4\n\u001b[0;32m      <a href='vscode-notebook-cell:/c%3A/Users/Administrator/Documents/PIAIC/Python%20Codes/class%2011/class11.ipynb#X25sZmlsZQ%3D%3D?line=0'>1</a>\u001b[0m \u001b[39mprint\u001b[39m(\u001b[39m'\u001b[39m\u001b[39mlogic1\u001b[39m\u001b[39m'\u001b[39m)\n\u001b[0;32m      <a href='vscode-notebook-cell:/c%3A/Users/Administrator/Documents/PIAIC/Python%20Codes/class%2011/class11.ipynb#X25sZmlsZQ%3D%3D?line=1'>2</a>\u001b[0m \u001b[39mprint\u001b[39m(\u001b[39m'\u001b[39m\u001b[39mlogic2\u001b[39m\u001b[39m'\u001b[39m)\n\u001b[1;32m----> <a href='vscode-notebook-cell:/c%3A/Users/Administrator/Documents/PIAIC/Python%20Codes/class%2011/class11.ipynb#X25sZmlsZQ%3D%3D?line=3'>4</a>\u001b[0m \u001b[39mprint\u001b[39m(\u001b[39m7\u001b[39;49m\u001b[39m/\u001b[39;49m\u001b[39m0\u001b[39;49m)\n\u001b[0;32m      <a href='vscode-notebook-cell:/c%3A/Users/Administrator/Documents/PIAIC/Python%20Codes/class%2011/class11.ipynb#X25sZmlsZQ%3D%3D?line=5'>6</a>\u001b[0m \u001b[39mprint\u001b[39m(\u001b[39m'\u001b[39m\u001b[39mlogic3\u001b[39m\u001b[39m'\u001b[39m)\n",
      "\u001b[1;31mZeroDivisionError\u001b[0m: division by zero"
     ]
    }
   ],
   "source": [
    "\n",
    "print('logic1')\n",
    "print('logic2')\n",
    "\n",
    "print(7/0)\n",
    "\n",
    "print('logic3')"
   ]
  },
  {
   "cell_type": "code",
   "execution_count": 32,
   "metadata": {},
   "outputs": [
    {
     "name": "stdout",
     "output_type": "stream",
     "text": [
      "logic1\n",
      "logic2\n",
      "There is some error\n",
      "logic3\n"
     ]
    }
   ],
   "source": [
    "\n",
    "print('logic1')\n",
    "print('logic2')\n",
    "try : \n",
    "    print(7/0)\n",
    "\n",
    "except(ZeroDivisionError):\n",
    "    print('There is some error')\n",
    "\n",
    "print('logic3')"
   ]
  },
  {
   "cell_type": "code",
   "execution_count": 33,
   "metadata": {},
   "outputs": [
    {
     "name": "stdout",
     "output_type": "stream",
     "text": [
      "logic1\n",
      "logic2\n",
      "There is some error\n",
      "logic3\n"
     ]
    }
   ],
   "source": [
    "\n",
    "print('logic1')\n",
    "print('logic2')\n",
    "l1: list[int]=[1,2,3]\n",
    "\n",
    "try : \n",
    "    print(7/0)\n",
    "    print(l1[0])\n",
    "\n",
    "except(ZeroDivisionError):\n",
    "    print('There is some error')\n",
    "\n",
    "print('logic3')"
   ]
  },
  {
   "cell_type": "code",
   "execution_count": 35,
   "metadata": {},
   "outputs": [
    {
     "name": "stdout",
     "output_type": "stream",
     "text": [
      "logic1\n",
      "logic2\n",
      "3.5\n",
      "1\n",
      "logic3\n"
     ]
    }
   ],
   "source": [
    "\n",
    "print('logic1')\n",
    "print('logic2')\n",
    "l1: list[int]=[1,2,3]\n",
    "\n",
    "try : \n",
    "    print(7/2)\n",
    "    print(l1[0])\n",
    "\n",
    "except(ZeroDivisionError, IndexError):\n",
    "    print('There is some error')\n",
    "\n",
    "print('logic3')"
   ]
  },
  {
   "cell_type": "code",
   "execution_count": 36,
   "metadata": {},
   "outputs": [
    {
     "name": "stdout",
     "output_type": "stream",
     "text": [
      "logic1\n",
      "logic2\n",
      "3.5\n",
      "There is some error\n",
      "logic3\n"
     ]
    }
   ],
   "source": [
    "\n",
    "print('logic1')\n",
    "print('logic2')\n",
    "l1: list[int]=[1,2,3]\n",
    "\n",
    "try : \n",
    "    print(7/2)\n",
    "    print(l1[4])\n",
    "\n",
    "except(ZeroDivisionError, IndexError):\n",
    "    print('There is some error')\n",
    "\n",
    "print('logic3')"
   ]
  },
  {
   "cell_type": "code",
   "execution_count": 37,
   "metadata": {},
   "outputs": [
    {
     "name": "stdout",
     "output_type": "stream",
     "text": [
      "logic1\n",
      "logic2\n",
      "3.5\n"
     ]
    },
    {
     "ename": "IndexError",
     "evalue": "list index out of range",
     "output_type": "error",
     "traceback": [
      "\u001b[1;31m---------------------------------------------------------------------------\u001b[0m",
      "\u001b[1;31mIndexError\u001b[0m                                Traceback (most recent call last)",
      "\u001b[1;32mc:\\Users\\Administrator\\Documents\\PIAIC\\Python Codes\\class 11\\class11.ipynb Cell 23\u001b[0m line \u001b[0;36m7\n\u001b[0;32m      <a href='vscode-notebook-cell:/c%3A/Users/Administrator/Documents/PIAIC/Python%20Codes/class%2011/class11.ipynb#X32sZmlsZQ%3D%3D?line=4'>5</a>\u001b[0m \u001b[39mtry\u001b[39;00m : \n\u001b[0;32m      <a href='vscode-notebook-cell:/c%3A/Users/Administrator/Documents/PIAIC/Python%20Codes/class%2011/class11.ipynb#X32sZmlsZQ%3D%3D?line=5'>6</a>\u001b[0m     \u001b[39mprint\u001b[39m(\u001b[39m7\u001b[39m\u001b[39m/\u001b[39m\u001b[39m2\u001b[39m)\n\u001b[1;32m----> <a href='vscode-notebook-cell:/c%3A/Users/Administrator/Documents/PIAIC/Python%20Codes/class%2011/class11.ipynb#X32sZmlsZQ%3D%3D?line=6'>7</a>\u001b[0m     \u001b[39mprint\u001b[39m(l1[\u001b[39m4\u001b[39;49m])\n\u001b[0;32m      <a href='vscode-notebook-cell:/c%3A/Users/Administrator/Documents/PIAIC/Python%20Codes/class%2011/class11.ipynb#X32sZmlsZQ%3D%3D?line=8'>9</a>\u001b[0m \u001b[39mexcept\u001b[39;00m(\u001b[39mZeroDivisionError\u001b[39;00m):\n\u001b[0;32m     <a href='vscode-notebook-cell:/c%3A/Users/Administrator/Documents/PIAIC/Python%20Codes/class%2011/class11.ipynb#X32sZmlsZQ%3D%3D?line=9'>10</a>\u001b[0m     \u001b[39mprint\u001b[39m(\u001b[39m'\u001b[39m\u001b[39mThere is some error\u001b[39m\u001b[39m'\u001b[39m)\n",
      "\u001b[1;31mIndexError\u001b[0m: list index out of range"
     ]
    }
   ],
   "source": [
    "\n",
    "print('logic1')\n",
    "print('logic2')\n",
    "l1: list[int]=[1,2,3]\n",
    "\n",
    "try : \n",
    "    print(7/2)\n",
    "    print(l1[4])\n",
    "\n",
    "except(ZeroDivisionError):\n",
    "    print('There is some error')\n",
    "\n",
    "print('logic3')"
   ]
  },
  {
   "cell_type": "code",
   "execution_count": 39,
   "metadata": {},
   "outputs": [
    {
     "name": "stdout",
     "output_type": "stream",
     "text": [
      "logic1\n",
      "logic2\n",
      "3.5\n",
      "Zero division error\n",
      "logic3\n"
     ]
    }
   ],
   "source": [
    "\n",
    "print('logic1')\n",
    "print('logic2')\n",
    "l1: list[int]=[1,2,3]\n",
    "\n",
    "try : \n",
    "    print(7/2)\n",
    "    print(l1[4])\n",
    "\n",
    "except(ZeroDivisionError,IndexError):\n",
    "    print('Zero division error')\n",
    "\n",
    "print('logic3')"
   ]
  }
 ],
 "metadata": {
  "kernelspec": {
   "display_name": "python12",
   "language": "python",
   "name": "python3"
  },
  "language_info": {
   "codemirror_mode": {
    "name": "ipython",
    "version": 3
   },
   "file_extension": ".py",
   "mimetype": "text/x-python",
   "name": "python",
   "nbconvert_exporter": "python",
   "pygments_lexer": "ipython3",
   "version": "3.12.0"
  }
 },
 "nbformat": 4,
 "nbformat_minor": 2
}
