{
 "cells": [
  {
   "cell_type": "markdown",
   "metadata": {},
   "source": [
    "# String Data Type in Python\n"
   ]
  },
  {
   "cell_type": "code",
   "execution_count": 14,
   "metadata": {},
   "outputs": [
    {
     "name": "stdout",
     "output_type": "stream",
     "text": [
      "Ahmad Aziz\n",
      "<class 'str'>\n",
      "PIAIC Student Card\n",
      "Student Name: Ahmad Aziz\n",
      "Age: 21\n",
      "Education: Bachelor Of Computer Science\n"
     ]
    }
   ],
   "source": [
    "name : str = \"Ahmad Aziz\"\n",
    "fname : str = \"Arshad\"\n",
    "education : str = 'Bachelor Of Computer Science'\n",
    "age : int = 21\n",
    "\n",
    "#Error due to string and integer\n",
    "#card : str = \"PIAIC Student Card\\nStudent Name: \" + name  + \"\\nAge: \" + age\n",
    "\n",
    "\n",
    "card : str = \"PIAIC Student Card\\nStudent Name: \" + name  + \"\\nAge: \" + str(age)\n",
    "\n",
    "card : str = \"PIAIC Student Card\\nStudent Name: \" + name  +\\\n",
    "      \"\\nAge: \" + str(age) +\\\n",
    "      \"\\nEducation: \" + education\n",
    "\n",
    "print(name)\n",
    "print(type(name))\n",
    "print(card)"
   ]
  },
  {
   "cell_type": "code",
   "execution_count": 5,
   "metadata": {},
   "outputs": [
    {
     "name": "stdout",
     "output_type": "stream",
     "text": [
      "PIAIC Student Card \n",
      " Father's Name : \n"
     ]
    }
   ],
   "source": [
    "message : str = \"PIAIC Student Card \\nFather's Name : \"\n",
    "print(message)"
   ]
  },
  {
   "cell_type": "code",
   "execution_count": 6,
   "metadata": {},
   "outputs": [
    {
     "name": "stdout",
     "output_type": "stream",
     "text": [
      "PIAIC Student Card \n",
      "Father's Name : \n"
     ]
    }
   ],
   "source": [
    "#convert any special charcter into simple character , place \\ before character\n",
    "message : str = 'PIAIC Student Card \\nFather\\'s Name : '\n",
    "print(message)"
   ]
  },
  {
   "cell_type": "markdown",
   "metadata": {},
   "source": [
    "# \\ Line continue"
   ]
  },
  {
   "cell_type": "code",
   "execution_count": 12,
   "metadata": {},
   "outputs": [
    {
     "name": "stdout",
     "output_type": "stream",
     "text": [
      "17\n"
     ]
    }
   ],
   "source": [
    "print(7 + \\\n",
    "      8 + \\\n",
    "        2)"
   ]
  },
  {
   "cell_type": "markdown",
   "metadata": {},
   "source": [
    "# Define Multi line String \"\"\" \"\"\" , \"\" \"\""
   ]
  },
  {
   "cell_type": "code",
   "execution_count": 16,
   "metadata": {},
   "outputs": [
    {
     "name": "stdout",
     "output_type": "stream",
     "text": [
      "\n",
      "PIAIC Student Card : ----\n",
      "Father's Name : -----\n",
      "\n"
     ]
    }
   ],
   "source": [
    "name : str = \"Ahmad Aziz\"\n",
    "fname : str = \"Arshad\"\n",
    "education : str = 'Bachelor Of Computer Science'\n",
    "age : int = 21\n",
    "\n",
    "card : str = \"\"\"\n",
    "PIAIC Student Card : ----\n",
    "Father's Name : -----\n",
    "\"\"\"\n",
    "\n",
    "print(card)"
   ]
  },
  {
   "cell_type": "markdown",
   "metadata": {},
   "source": [
    "# Fstring python ===> Langchain template is based on fstream \n",
    "Just place f after = and then use {variable_name} in the multi line string"
   ]
  },
  {
   "cell_type": "code",
   "execution_count": 22,
   "metadata": {},
   "outputs": [
    {
     "name": "stdout",
     "output_type": "stream",
     "text": [
      "\n",
      "PIAIC Student Card : Ahmad Aziz\n",
      "Father's Name : Arshad\n",
      "Education : Bachelor Of Computer Science\n",
      "Age : 21\n",
      "\n",
      "Total : 20\n",
      "\n"
     ]
    }
   ],
   "source": [
    "name : str = \"Ahmad Aziz\"\n",
    "fname : str = \"Arshad\"\n",
    "education : str = 'Bachelor Of Computer Science'\n",
    "age : int = 21\n",
    "\n",
    "card : str = f\"\"\"\n",
    "PIAIC Student Card : {name}\n",
    "Father's Name : {fname}\n",
    "Education : {education}\n",
    "Age : {age}\n",
    "\n",
    "Total : {2+8+10}\n",
    "\"\"\"\n",
    "\n",
    "print(card)"
   ]
  },
  {
   "cell_type": "code",
   "execution_count": 20,
   "metadata": {},
   "outputs": [
    {
     "name": "stdout",
     "output_type": "stream",
     "text": [
      "\n",
      "PIAIC Student Card : Ahmad Aziz\n",
      "Father's Name : Arshad\n",
      "Education : Bachelor Of Computer Science\n",
      "Age : 21\n",
      "\n"
     ]
    }
   ],
   "source": [
    "name : str = \"Ahmad Aziz\"\n",
    "fname : str = \"Arshad\"\n",
    "education : str = 'Bachelor Of Computer Science'\n",
    "age : int = 21\n",
    "\n",
    "card : str = f'''\n",
    "PIAIC Student Card : {name}\n",
    "Father's Name : {fname}\n",
    "Education : {education}\n",
    "Age : {age}\n",
    "'''\n",
    "\n",
    "print(card)"
   ]
  },
  {
   "cell_type": "markdown",
   "metadata": {},
   "source": [
    "# f- string and Jinja"
   ]
  },
  {
   "cell_type": "code",
   "execution_count": null,
   "metadata": {},
   "outputs": [],
   "source": [
    "\"\"\"\n",
    "Student name {name}\n",
    "\"\"\""
   ]
  },
  {
   "cell_type": "code",
   "execution_count": null,
   "metadata": {},
   "outputs": [],
   "source": [
    "# Jinja Style\n",
    "\"\"\"\n",
    "Student name {{name}}\n",
    "\"\"\""
   ]
  },
  {
   "cell_type": "code",
   "execution_count": 24,
   "metadata": {},
   "outputs": [
    {
     "name": "stdout",
     "output_type": "stream",
     "text": [
      "\n",
      "PIAIC Student Card : Ahmad Aziz\n",
      "Father's Name : Arshad\n",
      "Education : Bachelor Of Computer Science\n",
      "Age : 21\n",
      "\n",
      "\n",
      "\n"
     ]
    }
   ],
   "source": [
    "name : str = \"Ahmad Aziz\"\n",
    "fname : str = \"Arshad\"\n",
    "education : str = 'Bachelor Of Computer Science'\n",
    "age : int = 21\n",
    "\n",
    "card : str = f\"\"\"\n",
    "PIAIC Student Card : %s\n",
    "Father's Name : %s\n",
    "Education : %s\n",
    "Age : %d\n",
    "\n",
    "\n",
    "\"\"\" %(name , fname , education , age )\n",
    "\n",
    "print(card)"
   ]
  },
  {
   "cell_type": "code",
   "execution_count": 26,
   "metadata": {},
   "outputs": [
    {
     "name": "stdout",
     "output_type": "stream",
     "text": [
      "Ahmad aziz\n",
      "ahmad aziz\n",
      "AHMAD AZIZ\n"
     ]
    }
   ],
   "source": [
    "name : str = \"AHmad AzIZ\"\n",
    "print(name.capitalize())\n",
    "print(name.lower())\n",
    "print(name.upper())"
   ]
  },
  {
   "cell_type": "code",
   "execution_count": 28,
   "metadata": {},
   "outputs": [
    {
     "data": {
      "text/plain": [
       "'pakistan value a = 7 and value b = 8'"
      ]
     },
     "execution_count": 28,
     "metadata": {},
     "output_type": "execute_result"
    }
   ],
   "source": [
    "a = 7\n",
    "b = 8\n",
    "\n",
    "\n",
    "\"pakistan value a = {} and value b = {}\".format(a,b) #Part of Fstring"
   ]
  },
  {
   "cell_type": "markdown",
   "metadata": {},
   "source": [
    "# Recmommend below two f-string format methods"
   ]
  },
  {
   "cell_type": "code",
   "execution_count": 34,
   "metadata": {},
   "outputs": [
    {
     "name": "stdout",
     "output_type": "stream",
     "text": [
      "      \n",
      "PIAIC Student Card : Ahmad Aziz  \n",
      "Father's Name : Arshad\n",
      "Education : Bachelor Of Computer Science\n",
      "Age : 21\n",
      "\n"
     ]
    }
   ],
   "source": [
    "name : str = \"Ahmad Aziz\"\n",
    "fname : str = \"Arshad\"\n",
    "education : str = 'Bachelor Of Computer Science'\n",
    "age : int = 21\n",
    "\n",
    "card : str = '''      \n",
    "PIAIC Student Card : {0}  \n",
    "Father's Name : {1}\n",
    "Education : {3}\n",
    "Age : {2}\n",
    "'''.format(name , fname , age , education)\n",
    "#            0       1     2      3         ===> indexes\n",
    "\n",
    "print(card)"
   ]
  },
  {
   "cell_type": "code",
   "execution_count": 36,
   "metadata": {},
   "outputs": [
    {
     "name": "stdout",
     "output_type": "stream",
     "text": [
      "      \n",
      "PIAIC Student Card : Ahmad Aziz  \n",
      "Father's Name : Arshad\n",
      "Education : Bachelor Of Computer Science\n",
      "Age : 21\n",
      "\n"
     ]
    }
   ],
   "source": [
    "name : str = \"Ahmad Aziz\"\n",
    "fname : str = \"Arshad\"\n",
    "education : str = 'Bachelor Of Computer Science'\n",
    "age : int = 21\n",
    "\n",
    "card : str = '''      \n",
    "PIAIC Student Card : {a}  \n",
    "Father's Name : {b}\n",
    "Education : {c}\n",
    "Age : {d}\n",
    "'''.format(a= name , b= fname ,d= age ,c= education)\n",
    "#            0         1         2          3         ===> placeholders\n",
    "\n",
    "print(card)"
   ]
  },
  {
   "cell_type": "code",
   "execution_count": null,
   "metadata": {},
   "outputs": [],
   "source": [
    "student_code : str = \"\"\"\n",
    "print(\"my name is Ahmad\")\n",
    "a : int = 7\n",
    "b : int = 8\n",
    "print(a+b)\n",
    "\"\"\"\n",
    "\n",
    "exec(student_code)"
   ]
  }
 ],
 "metadata": {
  "kernelspec": {
   "display_name": "python12",
   "language": "python",
   "name": "python3"
  },
  "language_info": {
   "codemirror_mode": {
    "name": "ipython",
    "version": 3
   },
   "file_extension": ".py",
   "mimetype": "text/x-python",
   "name": "python",
   "nbconvert_exporter": "python",
   "pygments_lexer": "ipython3",
   "version": "3.12.0"
  }
 },
 "nbformat": 4,
 "nbformat_minor": 2
}
