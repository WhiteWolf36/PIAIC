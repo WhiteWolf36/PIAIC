{
 "cells": [
  {
   "cell_type": "markdown",
   "metadata": {},
   "source": [
    "# Lists\n",
    "* dynamic length\n",
    "* heterogeneous data type (Multiple Type)\n",
    "* index\n",
    "    * positive 0 to n-1\n",
    "    * negative -1 to length\n",
    "* slicing\n",
    "    * start : int = include\n",
    "    * end : int = exclude\n",
    "    * step : int = sequence"
   ]
  },
  {
   "cell_type": "code",
   "execution_count": 3,
   "metadata": {},
   "outputs": [
    {
     "name": "stdout",
     "output_type": "stream",
     "text": [
      "Ahmad\n",
      "Ahmad\n",
      "Ali\n"
     ]
    }
   ],
   "source": [
    "# -->       0        1        2 \n",
    "names = [\"Ahmad\" , \"Ali\" , \"Qasim\"]\n",
    "# <--       -3       -2       -1\n",
    "\n",
    "\n",
    "print(names[0])\n",
    "print(names[-3])\n",
    "\n",
    "print(names[-2])"
   ]
  },
  {
   "cell_type": "code",
   "execution_count": 9,
   "metadata": {},
   "outputs": [
    {
     "name": "stdout",
     "output_type": "stream",
     "text": [
      "<class 'list'>\n",
      "<class 'str'>\n",
      "My name is: AHMAD\n"
     ]
    }
   ],
   "source": [
    "from typing import Any\n",
    "\n",
    "# -->                   0        1        2\n",
    "names : list[Any] = [\"Ahmad\" , \"Ali\" , \"Qasim\"]\n",
    "# -->                   -3       -2       -1\n",
    "\n",
    "print(type(names))\n",
    "print(type(names[1]))\n",
    "\n",
    "print(f'My name is: {names[0].upper()}')"
   ]
  },
  {
   "cell_type": "code",
   "execution_count": 13,
   "metadata": {},
   "outputs": [
    {
     "name": "stdout",
     "output_type": "stream",
     "text": [
      "['A', 'B']\n",
      "['A', 'B']\n",
      "['A', 'B']\n",
      "['A', 'B']\n"
     ]
    }
   ],
   "source": [
    "characters : list[str] = list(\"ABCDEFGHIJKLMNOPQrstUVWXYZ\")\n",
    "print(characters[0:2]) #0 include : index 2-1 not include \n",
    "print(characters[:2])\n",
    "print(characters[-26:-24])\n",
    "print(characters[0:2:]) # start 0  not include 2-1 step 1"
   ]
  },
  {
   "cell_type": "code",
   "execution_count": 15,
   "metadata": {},
   "outputs": [
    {
     "name": "stdout",
     "output_type": "stream",
     "text": [
      "['A', 'C', 'E', 'G', 'I', 'K', 'M', 'O', 'Q', 's', 'U', 'W', 'Y']\n"
     ]
    }
   ],
   "source": [
    "characters : list[str] = list(\"ABCDEFGHIJKLMNOPQrstUVWXYZ\")\n",
    "\n",
    "print(characters[::2]) # step of 2"
   ]
  },
  {
   "cell_type": "code",
   "execution_count": 18,
   "metadata": {},
   "outputs": [
    {
     "name": "stdout",
     "output_type": "stream",
     "text": [
      "['B', 'C', 'D', 'E']\n"
     ]
    }
   ],
   "source": [
    "#                          0    1   2   3   4   5   6   7 \n",
    "characters : list[str] = ['A' ,'B','C','D','E','F','G','H']\n",
    "#                         -8   -7  -6  -5  -4  -3  -2  -1  \n",
    "print(characters[1:-3]) #<--"
   ]
  },
  {
   "cell_type": "code",
   "execution_count": 20,
   "metadata": {},
   "outputs": [
    {
     "name": "stdout",
     "output_type": "stream",
     "text": [
      "['D', 'E', 'F']\n"
     ]
    }
   ],
   "source": [
    "#                          0    1   2   3   4   5   6   7 \n",
    "characters : list[str] = ['A' ,'B','C','D','E','F','G','H']\n",
    "#                         -8   -7  -6  -5  -4  -3  -2  -1  \n",
    "print(characters[-5:-2]) #<--"
   ]
  },
  {
   "cell_type": "code",
   "execution_count": 21,
   "metadata": {},
   "outputs": [
    {
     "name": "stdout",
     "output_type": "stream",
     "text": [
      "['G', 'F', 'E']\n"
     ]
    }
   ],
   "source": [
    "#                          0    1   2   3   4   5   6   7 \n",
    "characters : list[str] = ['A' ,'B','C','D','E','F','G','H']\n",
    "#                         -8   -7  -6  -5  -4  -3  -2  -1  \n",
    "print(characters[-2:-5:-1]) #<--"
   ]
  },
  {
   "cell_type": "code",
   "execution_count": 23,
   "metadata": {},
   "outputs": [
    {
     "name": "stdout",
     "output_type": "stream",
     "text": [
      "['Ahmad', 'Ali', 'Qasim']\n",
      "['Ahmad', 'Ali']\n"
     ]
    }
   ],
   "source": [
    "names : list[Any] =[\"Ahmad\", \"Ali\", \"Qasim\"]\n",
    "print(names)\n",
    "\n",
    "del names[2]\n",
    "print(names)"
   ]
  },
  {
   "cell_type": "markdown",
   "metadata": {},
   "source": [
    "# Help\n",
    "* help(object)\n",
    "* object?\n",
    "* object??\n",
    "* ?object\n",
    "* ??object"
   ]
  },
  {
   "cell_type": "code",
   "execution_count": 29,
   "metadata": {},
   "outputs": [
    {
     "name": "stdout",
     "output_type": "stream",
     "text": [
      "Help on built-in function print in module builtins:\n",
      "\n",
      "print(*args, sep=' ', end='\\n', file=None, flush=False)\n",
      "    Prints the values to a stream, or to sys.stdout by default.\n",
      "\n",
      "    sep\n",
      "      string inserted between values, default a space.\n",
      "    end\n",
      "      string appended after the last value, default a newline.\n",
      "    file\n",
      "      a file-like object (stream); defaults to the current sys.stdout.\n",
      "    flush\n",
      "      whether to forcibly flush the stream.\n",
      "\n"
     ]
    }
   ],
   "source": [
    "help(print)"
   ]
  },
  {
   "cell_type": "code",
   "execution_count": null,
   "metadata": {},
   "outputs": [],
   "source": [
    "names : list[Any] =[\"Ahmad\", \"Ali\", \"Qasim\"]\n",
    "print(names)\n",
    "\n",
    "# a : str = del names[2]     not returning anything"
   ]
  },
  {
   "cell_type": "code",
   "execution_count": 30,
   "metadata": {},
   "outputs": [
    {
     "name": "stdout",
     "output_type": "stream",
     "text": [
      "['Ahmad', 'Ali', 'Qasim']\n",
      "Qasim\n"
     ]
    }
   ],
   "source": [
    "names : list[Any] =[\"Ahmad\", \"Ali\", \"Qasim\"]\n",
    "print(names)\n",
    "\n",
    "a : str = names.pop()  # return method\n",
    "\n",
    "print(a)"
   ]
  },
  {
   "cell_type": "code",
   "execution_count": 31,
   "metadata": {},
   "outputs": [
    {
     "name": "stdout",
     "output_type": "stream",
     "text": [
      "Ahmad\n",
      "None\n"
     ]
    }
   ],
   "source": [
    "print(print(\"Ahmad\"))"
   ]
  },
  {
   "cell_type": "code",
   "execution_count": 32,
   "metadata": {},
   "outputs": [
    {
     "name": "stdout",
     "output_type": "stream",
     "text": [
      "['Ahmad', 'Ali', 'Qasim']\n",
      "Ahmad\n",
      "['Ali', 'Qasim']\n"
     ]
    }
   ],
   "source": [
    "names : list[Any] =[\"Ahmad\", \"Ali\", \"Qasim\"]\n",
    "print(names)\n",
    "\n",
    "a : str = names.pop(0)  # return method\n",
    "\n",
    "print(a)\n",
    "print(names)"
   ]
  },
  {
   "cell_type": "markdown",
   "metadata": {},
   "source": [
    "## Appends method add elements in last"
   ]
  },
  {
   "cell_type": "code",
   "execution_count": 34,
   "metadata": {},
   "outputs": [
    {
     "name": "stdout",
     "output_type": "stream",
     "text": [
      "['Ahmad', 'Ali', 'Qasim']\n"
     ]
    }
   ],
   "source": [
    "names : list[str] = []\n",
    "names.append(\"Ahmad\")\n",
    "names.append(\"Ali\")\n",
    "names.append(\"Qasim\")\n",
    "\n",
    "print(names)"
   ]
  },
  {
   "cell_type": "code",
   "execution_count": 35,
   "metadata": {},
   "outputs": [
    {
     "name": "stdout",
     "output_type": "stream",
     "text": [
      "['Ahmad', 'Ali', 'Qasim']\n",
      "['Ahmad', 'Hamza', 'Ali', 'Qasim']\n"
     ]
    }
   ],
   "source": [
    "names : list[Any] =[\"Ahmad\", \"Ali\", \"Qasim\"]\n",
    "print(names)\n",
    "\n",
    "names.insert(1,\"Hamza\")\n",
    "print(names)"
   ]
  },
  {
   "cell_type": "code",
   "execution_count": null,
   "metadata": {},
   "outputs": [],
   "source": [
    "a : list[str]=[1,2,3]\n",
    "a.clear()\n",
    "print(a)"
   ]
  }
 ],
 "metadata": {
  "kernelspec": {
   "display_name": "python12",
   "language": "python",
   "name": "python3"
  },
  "language_info": {
   "codemirror_mode": {
    "name": "ipython",
    "version": 3
   },
   "file_extension": ".py",
   "mimetype": "text/x-python",
   "name": "python",
   "nbconvert_exporter": "python",
   "pygments_lexer": "ipython3",
   "version": "3.12.0"
  }
 },
 "nbformat": 4,
 "nbformat_minor": 2
}
