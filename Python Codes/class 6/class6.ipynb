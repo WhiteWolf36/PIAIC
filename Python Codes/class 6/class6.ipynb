{
 "cells": [
  {
   "cell_type": "markdown",
   "metadata": {},
   "source": [
    "# if-else-elif\n",
    "```\n",
    "if logic:\n",
    "    True_block\n",
    "else:\n",
    "    False_block\n",
    "```\n",
    "\n",
    "## comprehensive style\n",
    "```\n",
    "True_block if logic else False_block\n",
    "```\n",
    "* if-else\n",
    "* if-elif-else"
   ]
  },
  {
   "cell_type": "code",
   "execution_count": 1,
   "metadata": {},
   "outputs": [
    {
     "name": "stdout",
     "output_type": "stream",
     "text": [
      "Pakistan Zindaabaad\n"
     ]
    }
   ],
   "source": [
    "if True:\n",
    "    print('Pakistan Zindaabaad')\n",
    "\n",
    "else:\n",
    "    print(\"hello world\")"
   ]
  },
  {
   "cell_type": "code",
   "execution_count": 2,
   "metadata": {},
   "outputs": [
    {
     "name": "stdout",
     "output_type": "stream",
     "text": [
      "hello world\n"
     ]
    }
   ],
   "source": [
    "if False:\n",
    "    print('Pakistan Zindaabaad')\n",
    "\n",
    "else:\n",
    "    print(\"hello world\")"
   ]
  },
  {
   "cell_type": "code",
   "execution_count": 4,
   "metadata": {},
   "outputs": [
    {
     "name": "stdout",
     "output_type": "stream",
     "text": [
      "hello world\n",
      "Pakistan Zindaabaad\n"
     ]
    }
   ],
   "source": [
    "print('Pakistan Zindaabaad') if False else print('hello world')\n",
    "print('Pakistan Zindaabaad') if True else print('hello world')"
   ]
  },
  {
   "cell_type": "code",
   "execution_count": 5,
   "metadata": {},
   "outputs": [
    {
     "name": "stdout",
     "output_type": "stream",
     "text": [
      "true\n"
     ]
    }
   ],
   "source": [
    "if True:\n",
    "    print(\"true\")\n",
    "elif False:\n",
    "    print('false')\n",
    "else:\n",
    "    print('end')\n",
    "\n"
   ]
  },
  {
   "cell_type": "code",
   "execution_count": 6,
   "metadata": {},
   "outputs": [
    {
     "name": "stdout",
     "output_type": "stream",
     "text": [
      "end\n"
     ]
    }
   ],
   "source": [
    "if False:\n",
    "    print(\"true\")\n",
    "elif False:\n",
    "    print('false')\n",
    "else:\n",
    "    print('end')\n",
    "\n"
   ]
  },
  {
   "cell_type": "code",
   "execution_count": 7,
   "metadata": {},
   "outputs": [
    {
     "name": "stdout",
     "output_type": "stream",
     "text": [
      "false\n"
     ]
    }
   ],
   "source": [
    "if False:\n",
    "    print(\"true\")\n",
    "elif True:\n",
    "    print('false')\n",
    "else:\n",
    "    print('end')\n",
    "\n"
   ]
  },
  {
   "cell_type": "markdown",
   "metadata": {},
   "source": [
    "# Grading Rule"
   ]
  },
  {
   "cell_type": "code",
   "execution_count": 12,
   "metadata": {},
   "outputs": [
    {
     "name": "stdout",
     "output_type": "stream",
     "text": [
      "Dear student your grade is B\n"
     ]
    }
   ],
   "source": [
    "from typing import Union , Optional\n",
    "\n",
    "percentage : Union[int , float] = int(input('Enter your percentage'))\n",
    "\n",
    "# percentage : int | float = 88\n",
    "\n",
    "grade : Optional[str] = None\n",
    " \n",
    "if percentage >= 80:\n",
    "    grade='A'\n",
    "elif percentage >=70:\n",
    "    grade='B'\n",
    "elif percentage >=60:\n",
    "    grade='C'\n",
    "elif percentage >=50:\n",
    "    grade='D'\n",
    "elif percentage >=40:\n",
    "    grade='E'\n",
    "else :\n",
    "    grade=\"Fail\"\n",
    "\n",
    "print(f'Dear student your grade is {grade}')"
   ]
  },
  {
   "cell_type": "markdown",
   "metadata": {},
   "source": [
    "# Logical Error"
   ]
  },
  {
   "cell_type": "code",
   "execution_count": 16,
   "metadata": {},
   "outputs": [
    {
     "name": "stdout",
     "output_type": "stream",
     "text": [
      "Dear student your grade is Fail\n"
     ]
    }
   ],
   "source": [
    "from typing import Union , Optional\n",
    "\n",
    "percentage : Union[int , float] = int(input('Enter your percentage'))\n",
    "\n",
    "# percentage : int | float = 88\n",
    "\n",
    "grade : Optional[str] = None\n",
    " \n",
    "if percentage >= 0:\n",
    "    grade='Fail'\n",
    "elif percentage >=33:\n",
    "    grade='E'\n",
    "elif percentage >=40:\n",
    "    grade='D'\n",
    "elif percentage >=50:\n",
    "    grade='C'\n",
    "elif percentage >=60:\n",
    "    grade='B'\n",
    "elif percentage >=70:\n",
    "    grade='A'\n",
    "else :\n",
    "    grade=\"A+\"\n",
    "\n",
    "print(f'Dear student your grade is {grade}')"
   ]
  },
  {
   "cell_type": "code",
   "execution_count": 15,
   "metadata": {},
   "outputs": [
    {
     "name": "stdout",
     "output_type": "stream",
     "text": [
      "Dear student your grade is A+ and your percentage is 99\n"
     ]
    }
   ],
   "source": [
    "from typing import Union , Optional\n",
    "\n",
    "percentage : Union[int , float] = int(input('Enter your percentage'))\n",
    "\n",
    "# percentage : int | float = 88\n",
    "\n",
    "grade : Optional[str] = None\n",
    " \n",
    "if percentage >= 0 and percentage <33:\n",
    "    grade='Fail'\n",
    "elif percentage >=33 and percentage <40:\n",
    "    grade='E'\n",
    "elif percentage >=40 and percentage <50:\n",
    "    grade='D'\n",
    "elif percentage >=50 and percentage <60:\n",
    "    grade='C'\n",
    "elif percentage >=60 and percentage <70:\n",
    "    grade='B'\n",
    "elif percentage >=70 and percentage <80:\n",
    "    grade='A'\n",
    "else :\n",
    "    grade=\"A+\"\n",
    "\n",
    "print(f'Dear student your grade is {grade} and your percentage is {percentage}')"
   ]
  },
  {
   "cell_type": "markdown",
   "metadata": {},
   "source": [
    "# student percentages"
   ]
  },
  {
   "cell_type": "code",
   "execution_count": 19,
   "metadata": {},
   "outputs": [],
   "source": [
    "PerType = Union[float , int]  # custome data types"
   ]
  },
  {
   "cell_type": "code",
   "execution_count": 20,
   "metadata": {},
   "outputs": [
    {
     "name": "stdout",
     "output_type": "stream",
     "text": [
      "[88, 99.9, 50, 51, 65, 70]\n",
      "['A', 'A', 'D', 'D', 'C', 'B']\n"
     ]
    }
   ],
   "source": [
    "percentages : list[PerType]\n",
    "percentages = [88,99.9,50,51,65,70]\n",
    "\n",
    "grades : list[str]=[]\n",
    "\n",
    "for percentage in percentages:\n",
    "    grade: str = ''\n",
    "    if percentage >= 80:\n",
    "        grade='A'\n",
    "    elif percentage >=70:\n",
    "        grade='B'\n",
    "    elif percentage >=60:\n",
    "        grade='C'\n",
    "    elif percentage >=50:\n",
    "        grade='D'\n",
    "    elif percentage >=40:\n",
    "        grade='E'\n",
    "    else :\n",
    "        grade=\"Fail\"\n",
    "    grades.append(grade)\n",
    "print(percentages)\n",
    "print(grades)"
   ]
  },
  {
   "cell_type": "code",
   "execution_count": 22,
   "metadata": {},
   "outputs": [
    {
     "data": {
      "text/plain": [
       "[(88, 'A'), (99.9, 'A'), (50, 'D'), (51, 'D'), (65, 'C'), (70, 'B')]"
      ]
     },
     "execution_count": 22,
     "metadata": {},
     "output_type": "execute_result"
    }
   ],
   "source": [
    "list(zip(percentages,grades))"
   ]
  },
  {
   "cell_type": "code",
   "execution_count": 24,
   "metadata": {},
   "outputs": [
    {
     "data": {
      "text/plain": [
       "[(88, 'A'), (99.9, 'A'), (50, 'D'), (51, 'D'), (65, 'C'), (70, 'B')]"
      ]
     },
     "execution_count": 24,
     "metadata": {},
     "output_type": "execute_result"
    }
   ],
   "source": [
    "list(zip(percentages,grades ))"
   ]
  },
  {
   "cell_type": "code",
   "execution_count": 29,
   "metadata": {},
   "outputs": [
    {
     "data": {
      "text/plain": [
       "[0, 1, 2, 3, 4, 5]"
      ]
     },
     "execution_count": 29,
     "metadata": {},
     "output_type": "execute_result"
    }
   ],
   "source": [
    "roll_no: list = list(range(len(percentages)))\n",
    "roll_no"
   ]
  },
  {
   "cell_type": "code",
   "execution_count": 31,
   "metadata": {},
   "outputs": [
    {
     "data": {
      "text/plain": [
       "[(0, 88, 'A'),\n",
       " (1, 99.9, 'A'),\n",
       " (2, 50, 'D'),\n",
       " (3, 51, 'D'),\n",
       " (4, 65, 'C'),\n",
       " (5, 70, 'B')]"
      ]
     },
     "execution_count": 31,
     "metadata": {},
     "output_type": "execute_result"
    }
   ],
   "source": [
    "database = list(zip(roll_no , percentages , grades))\n",
    "database"
   ]
  },
  {
   "cell_type": "code",
   "execution_count": 35,
   "metadata": {},
   "outputs": [
    {
     "data": {
      "text/plain": [
       "[(0, 88, 'A'),\n",
       " (1, 99.9, 'A'),\n",
       " (2, 50, 'D'),\n",
       " (3, 51, 'D'),\n",
       " (4, 65, 'C'),\n",
       " (5, 70, 'B')]"
      ]
     },
     "metadata": {},
     "output_type": "display_data"
    },
    {
     "data": {
      "text/plain": [
       "[(2, 50, 'D'),\n",
       " (3, 51, 'D'),\n",
       " (4, 65, 'C'),\n",
       " (5, 70, 'B'),\n",
       " (0, 88, 'A'),\n",
       " (1, 99.9, 'A')]"
      ]
     },
     "execution_count": 35,
     "metadata": {},
     "output_type": "execute_result"
    }
   ],
   "source": [
    "display(database)\n",
    "\n",
    "sorted(database , key=lambda x:x[1])"
   ]
  },
  {
   "cell_type": "code",
   "execution_count": 36,
   "metadata": {},
   "outputs": [
    {
     "data": {
      "text/plain": [
       "[(0, 88, 'A'),\n",
       " (1, 99.9, 'A'),\n",
       " (2, 50, 'D'),\n",
       " (3, 51, 'D'),\n",
       " (4, 65, 'C'),\n",
       " (5, 70, 'B')]"
      ]
     },
     "metadata": {},
     "output_type": "display_data"
    },
    {
     "data": {
      "text/plain": [
       "[(1, 99.9, 'A'),\n",
       " (0, 88, 'A'),\n",
       " (5, 70, 'B'),\n",
       " (4, 65, 'C'),\n",
       " (3, 51, 'D'),\n",
       " (2, 50, 'D')]"
      ]
     },
     "execution_count": 36,
     "metadata": {},
     "output_type": "execute_result"
    }
   ],
   "source": [
    "display(database)\n",
    "\n",
    "sorted(database , key=lambda x:x[1] , reverse=True)"
   ]
  },
  {
   "cell_type": "code",
   "execution_count": 38,
   "metadata": {},
   "outputs": [
    {
     "name": "stdout",
     "output_type": "stream",
     "text": [
      "Adding mushrooms.\n",
      "Sorry, don't have french fries .\n",
      "Adding extra cheese.\n",
      "Finished making your pizza\n"
     ]
    }
   ],
   "source": [
    "available_toppings: list [str] = ['mushrooms', 'green peppers',' olives ',\n",
    "                    'pepperoni' , 'pineapple ','extra cheese']\n",
    "requested_toppings: list [str] = ['mushrooms' , 'french fries ', 'extra cheese']\n",
    "\n",
    "for requested_topping in requested_toppings:\n",
    "    if requested_topping in available_toppings:\n",
    "        print( f\"Adding {requested_topping}.\")\n",
    "    else:\n",
    "        print(f\"Sorry, don't have {requested_topping}.\")\n",
    "\n",
    "\n",
    "print(\"Finished making your pizza\")"
   ]
  },
  {
   "cell_type": "code",
   "execution_count": 39,
   "metadata": {},
   "outputs": [
    {
     "data": {
      "text/plain": [
       "['roti', 'pizza', 'egg']"
      ]
     },
     "execution_count": 39,
     "metadata": {},
     "output_type": "execute_result"
    }
   ],
   "source": [
    "input('Enter the toppings you want: ').split(',')"
   ]
  }
 ],
 "metadata": {
  "kernelspec": {
   "display_name": "python12",
   "language": "python",
   "name": "python3"
  },
  "language_info": {
   "codemirror_mode": {
    "name": "ipython",
    "version": 3
   },
   "file_extension": ".py",
   "mimetype": "text/x-python",
   "name": "python",
   "nbconvert_exporter": "python",
   "pygments_lexer": "ipython3",
   "version": "3.12.0"
  }
 },
 "nbformat": 4,
 "nbformat_minor": 2
}
